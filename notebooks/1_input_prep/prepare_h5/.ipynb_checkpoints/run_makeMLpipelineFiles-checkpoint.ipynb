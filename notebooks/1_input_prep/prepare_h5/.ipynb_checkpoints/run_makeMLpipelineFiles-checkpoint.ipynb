{
 "cells": [
  {
   "cell_type": "code",
   "execution_count": 58,
   "id": "576d563d",
   "metadata": {},
   "outputs": [],
   "source": [
    "import os\n",
    "from makeMLpipelineFiles import *"
   ]
  },
  {
   "cell_type": "markdown",
   "id": "a762c3c5",
   "metadata": {},
   "source": [
    "### Make h5 file for all predictors (clin, ybocs, EEG)"
   ]
  },
  {
   "cell_type": "code",
   "execution_count": 2,
   "id": "8a1c633b",
   "metadata": {},
   "outputs": [],
   "source": [
    "#data = pd.read_csv('/home/marijatochadse/1_data/EPOC/csv_files/EPOC_EEG_pat_105.csv', sep=\",\")\n",
    "#data.shape\n",
    "#exc = confs.copy()\n",
    "#exc.append(y)\n",
    "#data_variables = data.drop(columns=exc)\n",
    "#variables = data_variables.columns.values.tolist()"
   ]
  },
  {
   "cell_type": "markdown",
   "id": "56549ed4",
   "metadata": {},
   "source": [
    "#### Outcome Response"
   ]
  },
  {
   "cell_type": "code",
   "execution_count": 3,
   "id": "eb1288ea",
   "metadata": {},
   "outputs": [],
   "source": [
    "y = 'Response'\n",
    "confs = []\n",
    "variables = [\"Geschlecht\", \"Alter\", \"SES_Bildung\", \"MADRS_Summe_T0\", \"BDI_II_Summe\", \"STAI_TRAIT\", \"WST_Summe\", \"NEOFFI_Neurotizismus_Skala_Summenscore\", \"NEOFFI_Extraversion_Skala_Summenscore\", \"Summe_FB_ExekFunk_Emotionalitaet\", \"Summe_FB_ExekFunk\", \"SKID2_Skala_Selbstunsichere_Summe\", \"SKID2_Skala_Zwanghafte_Summe\", \"SKID2_Skala_Schizotypische_Summe\", \"SKID2_Skala_Borderline_Summe\", \"TCI_Summe_Skala_PessimismusOptimismus\", \"TCI_Summe_Skala_AngstUngewisses\", \"TCI_Summe_Skala_Schuechternheit\", \"TCI_Summe_Skala_Ermuedbarkeit\", \"F32F33\", \"Gruppe_Neu\", \"MedLetzte3Monate_Substanzklasse\", \"OCI_R_Summe_Waschen\", \"OCI_R_Summe_Kontrollieren\", \"OCI_R_Summe_Ordnen\", \"OCI_R_Summe_Zwangsgedanken\", \"OCI_R_Summe_Horten\", \"OCI_R_Summe_MentalesNeutralisieren\", \"BeginnDSM_OCD_Master\", \"OCTCDQ_Summe_Schadensvermeidung\", \"OCTCDQ_Summe_Unvollstaendigkeitserleben\", \"YBOO00T0\", \"YBOO01T0\", \"CPz_400to2000_Av_pos_GC\", \"CPz_400to2000_Av_neg_GC\", \"CPz_400to2000_Av_neutr_GC\", \"CP2_400to2000_Av_pos_GC\", \"CP2_400to2000_Av_neg_GC\", \"CP2_400to2000_Av_neutr_GC\", \"CP1_400to2000_Av_pos_GC\", \"CP1_400to2000_Av_neg_GC\", \"CP1_400to2000_Av_neutr_GC\", \"P2_400to2000_Av_pos_GC\", \"P2_400to2000_Av_neg_GC\", \"P2_400to2000_Av_neutr_GC\", \"Pz_400to2000_Av_pos_GC\", \"Pz_400to2000_Av_neg_GC\", \"Pz_400to2000_Av_neutr_GC\", \"P1_400to2000_Av_pos_GC\", \"P1_400to2000_Av_neg_GC\", \"P1_400to2000_Av_neutr_GC\", \"Cz_400to2000_Av_pos_GC\", \"Cz_400to2000_Av_neg_GC\", \"Cz_400to2000_Av_neutr_GC\"]"
   ]
  },
  {
   "cell_type": "code",
   "execution_count": 172,
   "id": "ce9accdb",
   "metadata": {},
   "outputs": [
    {
     "name": "stdout",
     "output_type": "stream",
     "text": [
      "<KeysViewHDF5 ['Response', 'X', 'i', 'scale_info']> <KeysViewHDF5 ['X_col_names', 'labels']> confs: []\n"
     ]
    }
   ],
   "source": [
    "fm = makeMLpipelineFiles('/home/marijatochadse/1_data/EPOC/csv_files/EPOC_EEG_pat_105.csv')\n",
    "fm.format_data(y, variables)\n",
    "fm.create_h5('/home/marijatochadse/1_data/EPOC/h5_files/clin_ybocs_EEG_OUTResponse.h5')"
   ]
  },
  {
   "cell_type": "markdown",
   "id": "14e3d6db",
   "metadata": {},
   "source": [
    "#### Outcome Remission"
   ]
  },
  {
   "cell_type": "code",
   "execution_count": 173,
   "id": "649f33b9",
   "metadata": {},
   "outputs": [],
   "source": [
    "y = 'Remission'\n",
    "confs = []\n",
    "variables = [\"Geschlecht\", \"Alter\", \"SES_Bildung\", \"MADRS_Summe_T0\", \"BDI_II_Summe\", \"STAI_TRAIT\", \"WST_Summe\", \"NEOFFI_Neurotizismus_Skala_Summenscore\", \"NEOFFI_Extraversion_Skala_Summenscore\", \"Summe_FB_ExekFunk_Emotionalitaet\", \"Summe_FB_ExekFunk\", \"SKID2_Skala_Selbstunsichere_Summe\", \"SKID2_Skala_Zwanghafte_Summe\", \"SKID2_Skala_Schizotypische_Summe\", \"SKID2_Skala_Borderline_Summe\", \"TCI_Summe_Skala_PessimismusOptimismus\", \"TCI_Summe_Skala_AngstUngewisses\", \"TCI_Summe_Skala_Schuechternheit\", \"TCI_Summe_Skala_Ermuedbarkeit\", \"F32F33\", \"Gruppe_Neu\", \"MedLetzte3Monate_Substanzklasse\", \"OCI_R_Summe_Waschen\", \"OCI_R_Summe_Kontrollieren\", \"OCI_R_Summe_Ordnen\", \"OCI_R_Summe_Zwangsgedanken\", \"OCI_R_Summe_Horten\", \"OCI_R_Summe_MentalesNeutralisieren\", \"BeginnDSM_OCD_Master\", \"OCTCDQ_Summe_Schadensvermeidung\", \"OCTCDQ_Summe_Unvollstaendigkeitserleben\", \"YBOO00T0\", \"YBOO01T0\", \"CPz_400to2000_Av_pos_GC\", \"CPz_400to2000_Av_neg_GC\", \"CPz_400to2000_Av_neutr_GC\", \"CP2_400to2000_Av_pos_GC\", \"CP2_400to2000_Av_neg_GC\", \"CP2_400to2000_Av_neutr_GC\", \"CP1_400to2000_Av_pos_GC\", \"CP1_400to2000_Av_neg_GC\", \"CP1_400to2000_Av_neutr_GC\", \"P2_400to2000_Av_pos_GC\", \"P2_400to2000_Av_neg_GC\", \"P2_400to2000_Av_neutr_GC\", \"Pz_400to2000_Av_pos_GC\", \"Pz_400to2000_Av_neg_GC\", \"Pz_400to2000_Av_neutr_GC\", \"P1_400to2000_Av_pos_GC\", \"P1_400to2000_Av_neg_GC\", \"P1_400to2000_Av_neutr_GC\", \"Cz_400to2000_Av_pos_GC\", \"Cz_400to2000_Av_neg_GC\", \"Cz_400to2000_Av_neutr_GC\"]"
   ]
  },
  {
   "cell_type": "code",
   "execution_count": 174,
   "id": "499ed7c8",
   "metadata": {},
   "outputs": [
    {
     "name": "stdout",
     "output_type": "stream",
     "text": [
      "<KeysViewHDF5 ['Remission', 'X', 'i', 'scale_info']> <KeysViewHDF5 ['X_col_names', 'labels']> confs: []\n"
     ]
    }
   ],
   "source": [
    "fm = makeMLpipelineFiles('/home/marijatochadse/1_data/EPOC/csv_files/EPOC_EEG_pat_105.csv')\n",
    "fm.format_data(y, variables)\n",
    "fm.create_h5('/home/marijatochadse/1_data/EPOC/h5_files/clin_ybocs_EEG_OUTRemission.h5')"
   ]
  },
  {
   "cell_type": "code",
   "execution_count": 10,
   "id": "d626ddf9",
   "metadata": {},
   "outputs": [
    {
     "name": "stdout",
     "output_type": "stream",
     "text": [
      "<KeysViewHDF5 ['Geschlecht', 'Remission', 'X', 'confs_scale_info', 'i', 'scale_info']> <KeysViewHDF5 ['X_col_names', 'confs', 'labels']> confs: ['Geschlecht']\n"
     ]
    }
   ],
   "source": [
    "# confounding variable sex\n",
    "y = 'Remission'\n",
    "confs = [\"Geschlecht\"]\n",
    "variables = [\"Alter\", \"SES_Bildung\", \"MADRS_Summe_T0\", \"BDI_II_Summe\", \"STAI_TRAIT\", \"WST_Summe\", \"NEOFFI_Neurotizismus_Skala_Summenscore\", \"NEOFFI_Extraversion_Skala_Summenscore\", \"Summe_FB_ExekFunk_Emotionalitaet\", \"Summe_FB_ExekFunk\", \"SKID2_Skala_Selbstunsichere_Summe\", \"SKID2_Skala_Zwanghafte_Summe\", \"SKID2_Skala_Schizotypische_Summe\", \"SKID2_Skala_Borderline_Summe\", \"TCI_Summe_Skala_PessimismusOptimismus\", \"TCI_Summe_Skala_AngstUngewisses\", \"TCI_Summe_Skala_Schuechternheit\", \"TCI_Summe_Skala_Ermuedbarkeit\", \"F32F33\", \"Gruppe_Neu\", \"MedLetzte3Monate_Substanzklasse\", \"OCI_R_Summe_Waschen\", \"OCI_R_Summe_Kontrollieren\", \"OCI_R_Summe_Ordnen\", \"OCI_R_Summe_Zwangsgedanken\", \"OCI_R_Summe_Horten\", \"OCI_R_Summe_MentalesNeutralisieren\", \"BeginnDSM_OCD_Master\", \"OCTCDQ_Summe_Schadensvermeidung\", \"OCTCDQ_Summe_Unvollstaendigkeitserleben\", \"YBOO00T0\", \"YBOO01T0\", \"CPz_400to2000_Av_pos_GC\", \"CPz_400to2000_Av_neg_GC\", \"CPz_400to2000_Av_neutr_GC\", \"CP2_400to2000_Av_pos_GC\", \"CP2_400to2000_Av_neg_GC\", \"CP2_400to2000_Av_neutr_GC\", \"CP1_400to2000_Av_pos_GC\", \"CP1_400to2000_Av_neg_GC\", \"CP1_400to2000_Av_neutr_GC\", \"P2_400to2000_Av_pos_GC\", \"P2_400to2000_Av_neg_GC\", \"P2_400to2000_Av_neutr_GC\", \"Pz_400to2000_Av_pos_GC\", \"Pz_400to2000_Av_neg_GC\", \"Pz_400to2000_Av_neutr_GC\", \"P1_400to2000_Av_pos_GC\", \"P1_400to2000_Av_neg_GC\", \"P1_400to2000_Av_neutr_GC\", \"Cz_400to2000_Av_pos_GC\", \"Cz_400to2000_Av_neg_GC\", \"Cz_400to2000_Av_neutr_GC\"]\n",
    "\n",
    "fm = makeMLpipelineFiles('/home/marijatochadse/1_data/EPOC/csv_files/EPOC_EEG_pat_105.csv')\n",
    "fm.format_data(y, variables, confs)\n",
    "fm.create_h5('/home/marijatochadse/1_data/EPOC/h5_files/clin_ybocs_EEG_OUTRemission_CONFSSex.h5')"
   ]
  },
  {
   "cell_type": "markdown",
   "id": "ad572d90",
   "metadata": {},
   "source": [
    "### Check created file"
   ]
  },
  {
   "cell_type": "code",
   "execution_count": 110,
   "id": "7fa8a20e",
   "metadata": {},
   "outputs": [],
   "source": [
    "f1 = h5py.File('/home/marijatochadse/1_data/EPOC/h5_files/clin_ybocs_EEG_OUTResponse.h5','r+')"
   ]
  },
  {
   "cell_type": "code",
   "execution_count": 111,
   "id": "44f19f76",
   "metadata": {},
   "outputs": [
    {
     "data": {
      "text/plain": [
       "<KeysViewHDF5 ['X_col_names', 'labels']>"
      ]
     },
     "execution_count": 111,
     "metadata": {},
     "output_type": "execute_result"
    }
   ],
   "source": [
    "f1.attrs.keys()"
   ]
  },
  {
   "cell_type": "code",
   "execution_count": null,
   "id": "87ddc1a4",
   "metadata": {
    "scrolled": true
   },
   "outputs": [],
   "source": [
    "f1.attrs.get('X_col_names')"
   ]
  },
  {
   "cell_type": "code",
   "execution_count": 113,
   "id": "a74f0940",
   "metadata": {},
   "outputs": [
    {
     "data": {
      "text/plain": [
       "array(['Response'], dtype=object)"
      ]
     },
     "execution_count": 113,
     "metadata": {},
     "output_type": "execute_result"
    }
   ],
   "source": [
    "f1.attrs.get('labels')"
   ]
  },
  {
   "cell_type": "code",
   "execution_count": 114,
   "id": "94d3e003",
   "metadata": {},
   "outputs": [],
   "source": [
    "f1.attrs.get('confs')"
   ]
  },
  {
   "cell_type": "code",
   "execution_count": null,
   "id": "c0045640",
   "metadata": {},
   "outputs": [],
   "source": [
    "pd.DataFrame(f1['X'])"
   ]
  },
  {
   "cell_type": "code",
   "execution_count": null,
   "id": "6f44729a",
   "metadata": {
    "scrolled": true
   },
   "outputs": [],
   "source": [
    "pd.DataFrame(f1['Response'])"
   ]
  },
  {
   "cell_type": "code",
   "execution_count": null,
   "id": "345fd214",
   "metadata": {
    "scrolled": true
   },
   "outputs": [],
   "source": [
    "pd.DataFrame(f1['scale_info'])"
   ]
  },
  {
   "cell_type": "code",
   "execution_count": 7,
   "id": "2ebf56e8",
   "metadata": {},
   "outputs": [],
   "source": [
    "f1.close()"
   ]
  },
  {
   "cell_type": "markdown",
   "id": "b3e9f0cc",
   "metadata": {},
   "source": [
    "### Make h5 files for all predictor types"
   ]
  },
  {
   "cell_type": "code",
   "execution_count": 13,
   "id": "b831905c",
   "metadata": {},
   "outputs": [],
   "source": [
    "age = ['Alter']\n",
    "sex = ['Geschlecht']\n",
    "sociodem = [\"Geschlecht\", \"Alter\", \"SES_Bildung\"]\n",
    "therapy = [\"Gruppe_Neu\", \"MedLetzte3Monate_Substanzklasse\"]\n",
    "comorbid = [\"F32F33\"]\n",
    "clin_OCD = [\"OCI_R_Summe_Waschen\", \"OCI_R_Summe_Kontrollieren\", \"OCI_R_Summe_Ordnen\", \"OCI_R_Summe_Zwangsgedanken\", \"OCI_R_Summe_Horten\", \"OCI_R_Summe_MentalesNeutralisieren\", \"BeginnDSM_OCD_Master\", \"OCTCDQ_Summe_Schadensvermeidung\", \"OCTCDQ_Summe_Unvollstaendigkeitserleben\"]\n",
    "clin_other = [\"MADRS_Summe_T0\", \"BDI_II_Summe\", \"STAI_TRAIT\", \"WST_Summe\", \"NEOFFI_Neurotizismus_Skala_Summenscore\", \"NEOFFI_Extraversion_Skala_Summenscore\", \"Summe_FB_ExekFunk_Emotionalitaet\", \"Summe_FB_ExekFunk\", \"SKID2_Skala_Selbstunsichere_Summe\", \"SKID2_Skala_Zwanghafte_Summe\", \"SKID2_Skala_Schizotypische_Summe\", \"SKID2_Skala_Borderline_Summe\", \"TCI_Summe_Skala_PessimismusOptimismus\", \"TCI_Summe_Skala_AngstUngewisses\", \"TCI_Summe_Skala_Schuechternheit\", \"TCI_Summe_Skala_Ermuedbarkeit\"]\n",
    "YBOCS_T0 = [\"YBOO00T0\", \"YBOO01T0\"]\n",
    "TAB = [\"Geschlecht\", \"Alter\", \"SES_Bildung\", \"MADRS_Summe_T0\", \"BDI_II_Summe\", \"STAI_TRAIT\", \"WST_Summe\", \"NEOFFI_Neurotizismus_Skala_Summenscore\", \"NEOFFI_Extraversion_Skala_Summenscore\", \"Summe_FB_ExekFunk_Emotionalitaet\", \"Summe_FB_ExekFunk\", \"SKID2_Skala_Selbstunsichere_Summe\", \"SKID2_Skala_Zwanghafte_Summe\", \"SKID2_Skala_Schizotypische_Summe\", \"SKID2_Skala_Borderline_Summe\", \"TCI_Summe_Skala_PessimismusOptimismus\", \"TCI_Summe_Skala_AngstUngewisses\", \"TCI_Summe_Skala_Schuechternheit\", \"TCI_Summe_Skala_Ermuedbarkeit\", \"F32F33\", \"Gruppe_Neu\", \"MedLetzte3Monate_Substanzklasse\", \"OCI_R_Summe_Waschen\", \"OCI_R_Summe_Kontrollieren\", \"OCI_R_Summe_Ordnen\", \"OCI_R_Summe_Zwangsgedanken\", \"OCI_R_Summe_Horten\", \"OCI_R_Summe_MentalesNeutralisieren\", \"BeginnDSM_OCD_Master\", \"OCTCDQ_Summe_Schadensvermeidung\", \"OCTCDQ_Summe_Unvollstaendigkeitserleben\", \"YBOO00T0\", \"YBOO01T0\"] \n",
    "#YBOCS_overtime = [ \"YBOO0020\", \"YBOO0120\", \"YBOO0040\", \"YBOO0140\", \"YBOO0060\", \"YBOO0160\", \"YBOO0080\", \"YBOO0180\"]\n",
    "#EEG = [\"CPz_400to2000_Av_pos_GC\", \"CPz_400to2000_Av_neg_GC\", \"CPz_400to2000_Av_neutr_GC\", \"CP2_400to2000_Av_pos_GC\", \"CP2_400to2000_Av_neg_GC\", \"CP2_400to2000_Av_neutr_GC\", \"CP1_400to2000_Av_pos_GC\", \"CP1_400to2000_Av_neg_GC\", \"CP1_400to2000_Av_neutr_GC\", \"P2_400to2000_Av_pos_GC\", \"P2_400to2000_Av_neg_GC\", \"P2_400to2000_Av_neutr_GC\", \"Pz_400to2000_Av_pos_GC\", \"Pz_400to2000_Av_neg_GC\", \"Pz_400to2000_Av_neutr_GC\", \"P1_400to2000_Av_pos_GC\", \"P1_400to2000_Av_neg_GC\", \"P1_400to2000_Av_neutr_GC\", \"Cz_400to2000_Av_pos_GC\", \"Cz_400to2000_Av_neg_GC\", \"Cz_400to2000_Av_neutr_GC\"]\n",
    "#all_vars = [\"Geschlecht\", \"Alter\", \"SES_Bildung\", \"MADRS_Summe_T0\", \"BDI_II_Summe\", \"STAI_TRAIT\", \"WST_Summe\", \"NEOFFI_Neurotizismus_Skala_Summenscore\", \"NEOFFI_Extraversion_Skala_Summenscore\", \"Summe_FB_ExekFunk_Emotionalitaet\", \"Summe_FB_ExekFunk\", \"SKID2_Skala_Selbstunsichere_Summe\", \"SKID2_Skala_Zwanghafte_Summe\", \"SKID2_Skala_Schizotypische_Summe\", \"SKID2_Skala_Borderline_Summe\", \"TCI_Summe_Skala_PessimismusOptimismus\", \"TCI_Summe_Skala_AngstUngewisses\", \"TCI_Summe_Skala_Schuechternheit\", \"TCI_Summe_Skala_Ermuedbarkeit\", \"F32F33\", \"Gruppe_Neu\", \"MedLetzte3Monate_Substanzklasse\", \"OCI_R_Summe_Waschen\", \"OCI_R_Summe_Kontrollieren\", \"OCI_R_Summe_Ordnen\", \"OCI_R_Summe_Zwangsgedanken\", \"OCI_R_Summe_Horten\", \"OCI_R_Summe_MentalesNeutralisieren\", \"BeginnDSM_OCD_Master\", \"OCTCDQ_Summe_Schadensvermeidung\", \"OCTCDQ_Summe_Unvollstaendigkeitserleben\", \"YBOO00T0\", \"YBOO01T0\", \"YBOO0020\", \"YBOO0120\", \"YBOO0040\", \"YBOO0140\", \"YBOO0060\", \"YBOO0160\", \"YBOO0080\", \"YBOO0180\", \"CPz_400to2000_Av_pos_GC\", \"CPz_400to2000_Av_neg_GC\", \"CPz_400to2000_Av_neutr_GC\", \"CP2_400to2000_Av_pos_GC\", \"CP2_400to2000_Av_neg_GC\", \"CP2_400to2000_Av_neutr_GC\", \"CP1_400to2000_Av_pos_GC\", \"CP1_400to2000_Av_neg_GC\", \"CP1_400to2000_Av_neutr_GC\", \"P2_400to2000_Av_pos_GC\", \"P2_400to2000_Av_neg_GC\", \"P2_400to2000_Av_neutr_GC\", \"Pz_400to2000_Av_pos_GC\", \"Pz_400to2000_Av_neg_GC\", \"Pz_400to2000_Av_neutr_GC\", \"P1_400to2000_Av_pos_GC\", \"P1_400to2000_Av_neg_GC\", \"P1_400to2000_Av_neutr_GC\", \"Cz_400to2000_Av_pos_GC\", \"Cz_400to2000_Av_neg_GC\", \"Cz_400to2000_Av_neutr_GC\"]\n",
    "\n",
    "cond_list = [age, sex, sociodem, therapy, comorbid, clin_OCD, clin_other, YBOCS_T0, TAB]\n",
    "name_list = [\"age\", \"sex\", \"sociodem\", \"therapy\", \"comorbid\", \"clin_OCD\", \"clin_other\", \"YBOCS_T0\", \"TAB\"]"
   ]
  },
  {
   "cell_type": "code",
   "execution_count": 14,
   "id": "b03d4178",
   "metadata": {},
   "outputs": [
    {
     "name": "stdout",
     "output_type": "stream",
     "text": [
      "<KeysViewHDF5 ['Response', 'X', 'i', 'scale_info']> <KeysViewHDF5 ['X_col_names', 'labels']> confs: []\n",
      "<KeysViewHDF5 ['Remission', 'X', 'i', 'scale_info']> <KeysViewHDF5 ['X_col_names', 'labels']> confs: []\n"
     ]
    }
   ],
   "source": [
    "infile = '/home/marijatochadse/1_data/EPOC/csv_files/EPOC_all_pat_119.csv'\n",
    "confs = []\n",
    "y_vars = ['Response', 'Remission']\n",
    "\n",
    "for i in y_vars:\n",
    "    y = i\n",
    "    for j, name in enumerate(name_list):\n",
    "        variables = cond_list[j]\n",
    "        save_path = os.path.join('/home/marijatochadse/1_data/EPOC/h5_files', name + '_OUT' + i + '.h5')\n",
    "        \n",
    "        fm = makeMLpipelineFiles(infile)\n",
    "        fm.format_data(y, variables)\n",
    "        fm.create_h5(save_path)"
   ]
  },
  {
   "cell_type": "code",
   "execution_count": 16,
   "id": "43e36c13",
   "metadata": {},
   "outputs": [
    {
     "name": "stdout",
     "output_type": "stream",
     "text": [
      "<KeysViewHDF5 ['Geschlecht', 'Remission', 'X', 'confs_scale_info', 'i', 'scale_info']> <KeysViewHDF5 ['X_col_names', 'confs', 'labels']> confs: ['Geschlecht']\n"
     ]
    }
   ],
   "source": [
    "# counfounding variable sex for Remission outcome\n",
    "infile = '/home/marijatochadse/1_data/EPOC/csv_files/EPOC_all_pat_119.csv'\n",
    "confs = ['Geschlecht']\n",
    "y_vars = ['Remission']\n",
    "\n",
    "for i in y_vars:\n",
    "    y = i\n",
    "    for j, name in enumerate(name_list):\n",
    "        variables = cond_list[j]\n",
    "        save_path = os.path.join('/home/marijatochadse/1_data/EPOC/h5_files', name + '_OUT' + i + '_CONFSSex.h5')\n",
    "        \n",
    "        fm = makeMLpipelineFiles(infile)\n",
    "        fm.format_data(y, variables, confs)\n",
    "        fm.create_h5(save_path)"
   ]
  },
  {
   "cell_type": "markdown",
   "id": "a505997d",
   "metadata": {},
   "source": [
    "### Make h5 files for EEG predictors"
   ]
  },
  {
   "cell_type": "code",
   "execution_count": 169,
   "id": "14eb61b8",
   "metadata": {},
   "outputs": [
    {
     "name": "stdout",
     "output_type": "stream",
     "text": [
      "<KeysViewHDF5 ['Response', 'X', 'i', 'scale_info']> <KeysViewHDF5 ['X_col_names', 'labels']> confs: []\n",
      "<KeysViewHDF5 ['Remission', 'X', 'i', 'scale_info']> <KeysViewHDF5 ['X_col_names', 'labels']> confs: []\n"
     ]
    }
   ],
   "source": [
    "EEG = [\"CPz_400to2000_Av_pos_GC\", \"CPz_400to2000_Av_neg_GC\", \"CPz_400to2000_Av_neutr_GC\", \"CP2_400to2000_Av_pos_GC\", \"CP2_400to2000_Av_neg_GC\", \"CP2_400to2000_Av_neutr_GC\", \"CP1_400to2000_Av_pos_GC\", \"CP1_400to2000_Av_neg_GC\", \"CP1_400to2000_Av_neutr_GC\", \"P2_400to2000_Av_pos_GC\", \"P2_400to2000_Av_neg_GC\", \"P2_400to2000_Av_neutr_GC\", \"Pz_400to2000_Av_pos_GC\", \"Pz_400to2000_Av_neg_GC\", \"Pz_400to2000_Av_neutr_GC\", \"P1_400to2000_Av_pos_GC\", \"P1_400to2000_Av_neg_GC\", \"P1_400to2000_Av_neutr_GC\", \"Cz_400to2000_Av_pos_GC\", \"Cz_400to2000_Av_neg_GC\", \"Cz_400to2000_Av_neutr_GC\"]\n",
    "variables = EEG\n",
    "\n",
    "infile = '/home/marijatochadse/1_data/EPOC/csv_files/EPOC_EEG_pat_105.csv'\n",
    "confs = []\n",
    "y_vars = ['Response', 'Remission']\n",
    "\n",
    "for i in y_vars:\n",
    "    y = i\n",
    "\n",
    "    save_path = os.path.join('/home/marijatochadse/1_data/EPOC/h5_files', 'EEG_OUT' + i + '.h5')\n",
    "\n",
    "    fm = makeMLpipelineFiles(infile)\n",
    "    fm.format_data(y, variables)\n",
    "    fm.create_h5(save_path)"
   ]
  },
  {
   "cell_type": "markdown",
   "id": "378ddbc0",
   "metadata": {},
   "source": [
    "### Make h5 files for EEG neutral - negative predictors"
   ]
  },
  {
   "cell_type": "code",
   "execution_count": 186,
   "id": "79ad7bfa",
   "metadata": {},
   "outputs": [
    {
     "name": "stdout",
     "output_type": "stream",
     "text": [
      "<KeysViewHDF5 ['Response', 'X', 'i', 'scale_info']> <KeysViewHDF5 ['X_col_names', 'labels']> confs: []\n",
      "<KeysViewHDF5 ['Remission', 'X', 'i', 'scale_info']> <KeysViewHDF5 ['X_col_names', 'labels']> confs: []\n"
     ]
    }
   ],
   "source": [
    "EEG_neutrneg = ['CPz_400to2000_Av_neutr_neg_GC', 'CP2_400to2000_Av_neutr_neg_GC', 'CP1_400to2000_Av_neutr_neg_GC' , 'P2_400to2000_Av_neutr_neg_GC', 'Pz_400to2000_Av_neutr_neg_GC',  'P1_400to2000_Av_neutr_neg_GC', 'Cz_400to2000_Av_neutr_neg_GC']\n",
    "variables = EEG_neutrneg\n",
    "\n",
    "infile = '/home/marijatochadse/1_data/EPOC/csv_files/EPOC_EEG_pat_105.csv'\n",
    "confs = []\n",
    "y_vars = ['Response', 'Remission']\n",
    "\n",
    "for i in y_vars:\n",
    "    y = i\n",
    "\n",
    "    save_path = os.path.join('/home/marijatochadse/1_data/EPOC/h5_files', 'EEGneutrneg_OUT' + i + '.h5')\n",
    "\n",
    "    fm = makeMLpipelineFiles(infile)\n",
    "    fm.format_data(y, variables)\n",
    "    fm.create_h5(save_path)"
   ]
  },
  {
   "cell_type": "code",
   "execution_count": 22,
   "id": "3c07fd60",
   "metadata": {},
   "outputs": [
    {
     "name": "stdout",
     "output_type": "stream",
     "text": [
      "<KeysViewHDF5 ['Geschlecht', 'Remission', 'X', 'confs_scale_info', 'i', 'scale_info']> <KeysViewHDF5 ['X_col_names', 'confs', 'labels']> confs: ['Geschlecht']\n"
     ]
    }
   ],
   "source": [
    "EEG_neutrneg = ['CPz_400to2000_Av_neutr_neg_GC', 'CP2_400to2000_Av_neutr_neg_GC', 'CP1_400to2000_Av_neutr_neg_GC' , 'P2_400to2000_Av_neutr_neg_GC', 'Pz_400to2000_Av_neutr_neg_GC',  'P1_400to2000_Av_neutr_neg_GC', 'Cz_400to2000_Av_neutr_neg_GC']\n",
    "variables = EEG_neutrneg\n",
    "\n",
    "infile = '/home/marijatochadse/1_data/EPOC/csv_files/EPOC_EEG_pat_105.csv'\n",
    "confs = ['Geschlecht']\n",
    "y_vars = ['Remission']\n",
    "\n",
    "for i in y_vars:\n",
    "    y = i\n",
    "\n",
    "    save_path = os.path.join('/home/marijatochadse/1_data/EPOC/h5_files', 'EEGneutrneg_OUT' + i + '_CONFSSex.h5')\n",
    "\n",
    "    fm = makeMLpipelineFiles(infile)\n",
    "    fm.format_data(y, variables, confs)\n",
    "    fm.create_h5(save_path)"
   ]
  },
  {
   "cell_type": "markdown",
   "id": "022e8662",
   "metadata": {},
   "source": [
    "### Make h5 files for YBOCS predictors"
   ]
  },
  {
   "cell_type": "code",
   "execution_count": 28,
   "id": "e7546266",
   "metadata": {},
   "outputs": [],
   "source": [
    "T1 = ['YBOO00T1', 'YBOO01T1']\n",
    "T20 = ['YBOO0020', 'YBOO0120']\n",
    "T20_T0 = ['T20-T0', 'T201-T01']\n",
    "T40 = ['YBOO0040', 'YBOO0140']\n",
    "T60 = ['YBOO0060', 'YBOO0160']\n",
    "\n",
    "cond_list = [T1, T20, T20_T0, T40, T60]\n",
    "name_list = [\"T1\", \"T20\", \"T20_T0\", \"T40\", \"T60\"]\n",
    "\n",
    "file_names = [\"T1_pat_118\", \"T20_pat_104\", \"T20_pat_104\", \"T40_pat_77\", \"T60_pat_36\"]"
   ]
  },
  {
   "cell_type": "code",
   "execution_count": 29,
   "id": "6d12407e",
   "metadata": {},
   "outputs": [
    {
     "name": "stdout",
     "output_type": "stream",
     "text": [
      "<KeysViewHDF5 ['Response', 'X', 'i', 'scale_info']> <KeysViewHDF5 ['X_col_names', 'labels']> confs: []\n",
      "<KeysViewHDF5 ['Response', 'X', 'i', 'scale_info']> <KeysViewHDF5 ['X_col_names', 'labels']> confs: []\n",
      "<KeysViewHDF5 ['Response', 'X', 'i', 'scale_info']> <KeysViewHDF5 ['X_col_names', 'labels']> confs: []\n",
      "<KeysViewHDF5 ['Response', 'X', 'i', 'scale_info']> <KeysViewHDF5 ['X_col_names', 'labels']> confs: []\n",
      "<KeysViewHDF5 ['Response', 'X', 'i', 'scale_info']> <KeysViewHDF5 ['X_col_names', 'labels']> confs: []\n",
      "<KeysViewHDF5 ['Remission', 'X', 'i', 'scale_info']> <KeysViewHDF5 ['X_col_names', 'labels']> confs: []\n",
      "<KeysViewHDF5 ['Remission', 'X', 'i', 'scale_info']> <KeysViewHDF5 ['X_col_names', 'labels']> confs: []\n",
      "<KeysViewHDF5 ['Remission', 'X', 'i', 'scale_info']> <KeysViewHDF5 ['X_col_names', 'labels']> confs: []\n",
      "<KeysViewHDF5 ['Remission', 'X', 'i', 'scale_info']> <KeysViewHDF5 ['X_col_names', 'labels']> confs: []\n",
      "<KeysViewHDF5 ['Remission', 'X', 'i', 'scale_info']> <KeysViewHDF5 ['X_col_names', 'labels']> confs: []\n"
     ]
    }
   ],
   "source": [
    "confs = []\n",
    "y_vars = ['Response', 'Remission']\n",
    "\n",
    "for i in y_vars:\n",
    "    y = i\n",
    "    for j, name in enumerate(name_list):\n",
    "        variables = cond_list[j]\n",
    "        save_path = os.path.join('/home/marijatochadse/1_data/EPOC/h5_files', name + '_OUT' + i + '.h5')\n",
    "        infile = os.path.join('/home/marijatochadse/1_data/EPOC/csv_files/EPOC_YBOC' + file_names[j] + '.csv')\n",
    "        \n",
    "        fm = makeMLpipelineFiles(infile)\n",
    "        fm.format_data(y, variables)\n",
    "        fm.create_h5(save_path)"
   ]
  },
  {
   "cell_type": "code",
   "execution_count": 39,
   "id": "bd402b3a",
   "metadata": {
    "scrolled": false
   },
   "outputs": [
    {
     "name": "stdout",
     "output_type": "stream",
     "text": [
      "<KeysViewHDF5 ['Geschlecht', 'Remission', 'X', 'confs_scale_info', 'i', 'scale_info']> <KeysViewHDF5 ['X_col_names', 'confs', 'labels']> confs: ['Geschlecht']\n",
      "<KeysViewHDF5 ['Geschlecht', 'Remission', 'X', 'confs_scale_info', 'i', 'scale_info']> <KeysViewHDF5 ['X_col_names', 'confs', 'labels']> confs: ['Geschlecht']\n",
      "<KeysViewHDF5 ['Geschlecht', 'Remission', 'X', 'confs_scale_info', 'i', 'scale_info']> <KeysViewHDF5 ['X_col_names', 'confs', 'labels']> confs: ['Geschlecht']\n",
      "<KeysViewHDF5 ['Geschlecht', 'Remission', 'X', 'confs_scale_info', 'i', 'scale_info']> <KeysViewHDF5 ['X_col_names', 'confs', 'labels']> confs: ['Geschlecht']\n",
      "<KeysViewHDF5 ['Geschlecht', 'Remission', 'X', 'confs_scale_info', 'i', 'scale_info']> <KeysViewHDF5 ['X_col_names', 'confs', 'labels']> confs: ['Geschlecht']\n"
     ]
    }
   ],
   "source": [
    "confs = ['Geschlecht']\n",
    "y_vars = ['Remission']\n",
    "\n",
    "for i in y_vars:\n",
    "    y = i\n",
    "    for j, name in enumerate(name_list):\n",
    "        variables = cond_list[j]\n",
    "        save_path = os.path.join('/home/marijatochadse/1_data/EPOC/h5_files', name + '_OUT' + i + '_CONFSSex.h5')\n",
    "        infile = os.path.join('/home/marijatochadse/1_data/EPOC/csv_files/EPOC_YBOC' + file_names[j] + '.csv')\n",
    "        \n",
    "        fm = makeMLpipelineFiles(infile)\n",
    "        fm.format_data(y, variables, confs)\n",
    "        fm.create_h5(save_path)"
   ]
  },
  {
   "cell_type": "markdown",
   "id": "511a4a90",
   "metadata": {},
   "source": [
    "### Make h5 files for T20-T0 outcome"
   ]
  },
  {
   "cell_type": "code",
   "execution_count": 189,
   "id": "a0621515",
   "metadata": {},
   "outputs": [
    {
     "name": "stdout",
     "output_type": "stream",
     "text": [
      "<KeysViewHDF5 ['T20-T0', 'X', 'i', 'scale_info']> <KeysViewHDF5 ['X_col_names', 'labels']> confs: []\n"
     ]
    }
   ],
   "source": [
    "y = 'T20-T0'\n",
    "confs = []\n",
    "variables = [\"Geschlecht\", \"Alter\", \"SES_Bildung\", \"MADRS_Summe_T0\", \"BDI_II_Summe\", \"STAI_TRAIT\", \"WST_Summe\", \"NEOFFI_Neurotizismus_Skala_Summenscore\", \"NEOFFI_Extraversion_Skala_Summenscore\", \"Summe_FB_ExekFunk_Emotionalitaet\", \"Summe_FB_ExekFunk\", \"SKID2_Skala_Selbstunsichere_Summe\", \"SKID2_Skala_Zwanghafte_Summe\", \"SKID2_Skala_Schizotypische_Summe\", \"SKID2_Skala_Borderline_Summe\", \"TCI_Summe_Skala_PessimismusOptimismus\", \"TCI_Summe_Skala_AngstUngewisses\", \"TCI_Summe_Skala_Schuechternheit\", \"TCI_Summe_Skala_Ermuedbarkeit\", \"F32F33\", \"Gruppe_Neu\", \"MedLetzte3Monate_Substanzklasse\", \"OCI_R_Summe_Waschen\", \"OCI_R_Summe_Kontrollieren\", \"OCI_R_Summe_Ordnen\", \"OCI_R_Summe_Zwangsgedanken\", \"OCI_R_Summe_Horten\", \"OCI_R_Summe_MentalesNeutralisieren\", \"BeginnDSM_OCD_Master\", \"OCTCDQ_Summe_Schadensvermeidung\", \"OCTCDQ_Summe_Unvollstaendigkeitserleben\"]\n",
    "\n",
    "infile = '/home/marijatochadse/1_data/EPOC/csv_files/EPOC_YBOCT20_pat_104.csv'\n",
    "save_path = os.path.join('/home/marijatochadse/1_data/EPOC/h5_files/clin_OUTT20_T0.h5')\n",
    "\n",
    "fm = makeMLpipelineFiles(infile)\n",
    "fm.format_data(y, variables)\n",
    "fm.create_h5(save_path)"
   ]
  },
  {
   "cell_type": "markdown",
   "id": "91438351",
   "metadata": {},
   "source": [
    "### Make h5 files for T40 outcome"
   ]
  },
  {
   "cell_type": "code",
   "execution_count": 190,
   "id": "7a20fa3a",
   "metadata": {},
   "outputs": [
    {
     "name": "stdout",
     "output_type": "stream",
     "text": [
      "<KeysViewHDF5 ['X', 'YBOO0040', 'i', 'scale_info']> <KeysViewHDF5 ['X_col_names', 'labels']> confs: []\n"
     ]
    }
   ],
   "source": [
    "y = 'YBOO0040'\n",
    "confs = []\n",
    "variables = [\"Geschlecht\", \"Alter\", \"SES_Bildung\", \"MADRS_Summe_T0\", \"BDI_II_Summe\", \"STAI_TRAIT\", \"WST_Summe\", \"NEOFFI_Neurotizismus_Skala_Summenscore\", \"NEOFFI_Extraversion_Skala_Summenscore\", \"Summe_FB_ExekFunk_Emotionalitaet\", \"Summe_FB_ExekFunk\", \"SKID2_Skala_Selbstunsichere_Summe\", \"SKID2_Skala_Zwanghafte_Summe\", \"SKID2_Skala_Schizotypische_Summe\", \"SKID2_Skala_Borderline_Summe\", \"TCI_Summe_Skala_PessimismusOptimismus\", \"TCI_Summe_Skala_AngstUngewisses\", \"TCI_Summe_Skala_Schuechternheit\", \"TCI_Summe_Skala_Ermuedbarkeit\", \"F32F33\", \"Gruppe_Neu\", \"MedLetzte3Monate_Substanzklasse\", \"OCI_R_Summe_Waschen\", \"OCI_R_Summe_Kontrollieren\", \"OCI_R_Summe_Ordnen\", \"OCI_R_Summe_Zwangsgedanken\", \"OCI_R_Summe_Horten\", \"OCI_R_Summe_MentalesNeutralisieren\", \"BeginnDSM_OCD_Master\", \"OCTCDQ_Summe_Schadensvermeidung\", \"OCTCDQ_Summe_Unvollstaendigkeitserleben\"]\n",
    "\n",
    "infile = '/home/marijatochadse/1_data/EPOC/csv_files/EPOC_YBOCT40_pat_77.csv'\n",
    "save_path = os.path.join('/home/marijatochadse/1_data/EPOC/h5_files/clin_OUTT40.h5')\n",
    "\n",
    "fm = makeMLpipelineFiles(infile)\n",
    "fm.format_data(y, variables)\n",
    "fm.create_h5(save_path)"
   ]
  },
  {
   "cell_type": "markdown",
   "id": "7267dda5",
   "metadata": {},
   "source": [
    "### Make h5 file for Response and Remission variable outcome"
   ]
  },
  {
   "cell_type": "code",
   "execution_count": 20,
   "id": "125ede5f",
   "metadata": {},
   "outputs": [
    {
     "name": "stdout",
     "output_type": "stream",
     "text": [
      "<KeysViewHDF5 ['Remission_and_Response', 'X', 'i', 'scale_info']> <KeysViewHDF5 ['X_col_names', 'labels']> confs: []\n"
     ]
    }
   ],
   "source": [
    "y = 'Remission_and_Response'\n",
    "confs = []\n",
    "variables = ['Geschlecht']\n",
    "\n",
    "infile = '/home/marijatochadse/1_data/EPOC/csv_files/EPOC_remres_pat_93.csv'\n",
    "save_path = os.path.join('/home/marijatochadse/1_data/EPOC/h5_files/sex_OUTRemRes.h5')\n",
    "\n",
    "fm = makeMLpipelineFiles(infile)\n",
    "fm.format_data(y, variables)\n",
    "fm.create_h5(save_path)"
   ]
  },
  {
   "cell_type": "code",
   "execution_count": 21,
   "id": "ce4f2d7b",
   "metadata": {},
   "outputs": [
    {
     "name": "stdout",
     "output_type": "stream",
     "text": [
      "<KeysViewHDF5 ['Remission_and_Response', 'X', 'i', 'scale_info']> <KeysViewHDF5 ['X_col_names', 'labels']> confs: []\n"
     ]
    }
   ],
   "source": [
    "y = 'Remission_and_Response'\n",
    "confs = []\n",
    "variables = ['Alter']\n",
    "\n",
    "infile = '/home/marijatochadse/1_data/EPOC/csv_files/EPOC_remres_pat_93.csv'\n",
    "save_path = os.path.join('/home/marijatochadse/1_data/EPOC/h5_files/age_OUTRemRes.h5')\n",
    "\n",
    "fm = makeMLpipelineFiles(infile)\n",
    "fm.format_data(y, variables)\n",
    "fm.create_h5(save_path)"
   ]
  },
  {
   "cell_type": "code",
   "execution_count": 8,
   "id": "a955aa61",
   "metadata": {},
   "outputs": [
    {
     "name": "stdout",
     "output_type": "stream",
     "text": [
      "<KeysViewHDF5 ['Remission_and_Response', 'X', 'i', 'scale_info']> <KeysViewHDF5 ['X_col_names', 'labels']> confs: []\n"
     ]
    }
   ],
   "source": [
    "y = 'Remission_and_Response'\n",
    "confs = []\n",
    "variables = [\"Geschlecht\", \"Alter\", \"SES_Bildung\", \"MADRS_Summe_T0\", \"BDI_II_Summe\", \"STAI_TRAIT\", \"WST_Summe\", \"NEOFFI_Neurotizismus_Skala_Summenscore\", \"NEOFFI_Extraversion_Skala_Summenscore\", \"Summe_FB_ExekFunk_Emotionalitaet\", \"Summe_FB_ExekFunk\", \"SKID2_Skala_Selbstunsichere_Summe\", \"SKID2_Skala_Zwanghafte_Summe\", \"SKID2_Skala_Schizotypische_Summe\", \"SKID2_Skala_Borderline_Summe\", \"TCI_Summe_Skala_PessimismusOptimismus\", \"TCI_Summe_Skala_AngstUngewisses\", \"TCI_Summe_Skala_Schuechternheit\", \"TCI_Summe_Skala_Ermuedbarkeit\", \"F32F33\", \"Gruppe_Neu\", \"MedLetzte3Monate_Substanzklasse\", \"OCI_R_Summe_Waschen\", \"OCI_R_Summe_Kontrollieren\", \"OCI_R_Summe_Ordnen\", \"OCI_R_Summe_Zwangsgedanken\", \"OCI_R_Summe_Horten\", \"OCI_R_Summe_MentalesNeutralisieren\", \"BeginnDSM_OCD_Master\", \"OCTCDQ_Summe_Schadensvermeidung\", \"OCTCDQ_Summe_Unvollstaendigkeitserleben\", \"YBOO00T0\", \"YBOO01T0\", \"CPz_400to2000_Av_pos_GC\", \"CPz_400to2000_Av_neg_GC\", \"CPz_400to2000_Av_neutr_GC\", \"CP2_400to2000_Av_pos_GC\", \"CP2_400to2000_Av_neg_GC\", \"CP2_400to2000_Av_neutr_GC\", \"CP1_400to2000_Av_pos_GC\", \"CP1_400to2000_Av_neg_GC\", \"CP1_400to2000_Av_neutr_GC\", \"P2_400to2000_Av_pos_GC\", \"P2_400to2000_Av_neg_GC\", \"P2_400to2000_Av_neutr_GC\", \"Pz_400to2000_Av_pos_GC\", \"Pz_400to2000_Av_neg_GC\", \"Pz_400to2000_Av_neutr_GC\", \"P1_400to2000_Av_pos_GC\", \"P1_400to2000_Av_neg_GC\", \"P1_400to2000_Av_neutr_GC\", \"Cz_400to2000_Av_pos_GC\", \"Cz_400to2000_Av_neg_GC\", \"Cz_400to2000_Av_neutr_GC\"]\n",
    "\n",
    "infile = '/home/marijatochadse/1_data/EPOC/csv_files/EPOC_remres_pat_93.csv'\n",
    "save_path = os.path.join('/home/marijatochadse/1_data/EPOC/h5_files/clin_OUTRemRes.h5')\n",
    "\n",
    "fm = makeMLpipelineFiles(infile)\n",
    "fm.format_data(y, variables)\n",
    "fm.create_h5(save_path)"
   ]
  },
  {
   "cell_type": "code",
   "execution_count": 55,
   "id": "1f8bb81f",
   "metadata": {},
   "outputs": [],
   "source": [
    "TAB = [\"Geschlecht\", \"Alter\", \"SES_Bildung\", \"MADRS_Summe_T0\", \"BDI_II_Summe\", \"STAI_TRAIT\", \"WST_Summe\", \"NEOFFI_Neurotizismus_Skala_Summenscore\", \"NEOFFI_Extraversion_Skala_Summenscore\", \"Summe_FB_ExekFunk_Emotionalitaet\", \"Summe_FB_ExekFunk\", \"SKID2_Skala_Selbstunsichere_Summe\", \"SKID2_Skala_Zwanghafte_Summe\", \"SKID2_Skala_Schizotypische_Summe\", \"SKID2_Skala_Borderline_Summe\", \"TCI_Summe_Skala_PessimismusOptimismus\", \"TCI_Summe_Skala_AngstUngewisses\", \"TCI_Summe_Skala_Schuechternheit\", \"TCI_Summe_Skala_Ermuedbarkeit\", \"F32F33\", \"Gruppe_Neu\", \"MedLetzte3Monate_Substanzklasse\", \"OCI_R_Summe_Waschen\", \"OCI_R_Summe_Kontrollieren\", \"OCI_R_Summe_Ordnen\", \"OCI_R_Summe_Zwangsgedanken\", \"OCI_R_Summe_Horten\", \"OCI_R_Summe_MentalesNeutralisieren\", \"BeginnDSM_OCD_Master\", \"OCTCDQ_Summe_Schadensvermeidung\", \"OCTCDQ_Summe_Unvollstaendigkeitserleben\", \"YBOO00T0\", \"YBOO01T0\"] \n",
    "#EEG_neutrneg = ['CPz_400to2000_Av_neutr_neg_GC', 'CP2_400to2000_Av_neutr_neg_GC', 'CP1_400to2000_Av_neutr_neg_GC' , 'P2_400to2000_Av_neutr_neg_GC', 'Pz_400to2000_Av_neutr_neg_GC',  'P1_400to2000_Av_neutr_neg_GC', 'Cz_400to2000_Av_neutr_neg_GC']\n",
    "YBOCS_T0 = [\"YBOO00T0\", \"YBOO01T0\"]\n",
    "\n",
    "cond_list = [TAB, YBOCS_T0]\n",
    "name_list = [\"TAB\", \"YBOCS_T0\"]"
   ]
  },
  {
   "cell_type": "code",
   "execution_count": 56,
   "id": "722a9bd6",
   "metadata": {},
   "outputs": [
    {
     "name": "stdout",
     "output_type": "stream",
     "text": [
      "<KeysViewHDF5 ['Geschlecht', 'Remission_and_Response', 'X', 'confs_scale_info', 'i', 'scale_info']> <KeysViewHDF5 ['X_col_names', 'confs', 'labels']> confs: ['Geschlecht']\n",
      "<KeysViewHDF5 ['Geschlecht', 'Remission_and_Response', 'X', 'confs_scale_info', 'i', 'scale_info']> <KeysViewHDF5 ['X_col_names', 'confs', 'labels']> confs: ['Geschlecht']\n"
     ]
    }
   ],
   "source": [
    "# counfounding variable sex for outcome\n",
    "infile = '/home/marijatochadse/1_data/EPOC/csv_files/EPOC_remres_pat_93.csv'\n",
    "confs = ['Geschlecht']\n",
    "y_vars = ['Remission_and_Response']\n",
    "\n",
    "for i in y_vars:\n",
    "    y = i\n",
    "    for j, name in enumerate(name_list):\n",
    "        variables = cond_list[j]\n",
    "        save_path = os.path.join('/home/marijatochadse/1_data/EPOC/h5_files', name + '_OUTRemRes_CONFSSex.h5')\n",
    "        \n",
    "        fm = makeMLpipelineFiles(infile)\n",
    "        fm.format_data(y, variables, confs)\n",
    "        fm.create_h5(save_path)"
   ]
  },
  {
   "cell_type": "code",
   "execution_count": 57,
   "id": "bfe829ac",
   "metadata": {},
   "outputs": [
    {
     "name": "stdout",
     "output_type": "stream",
     "text": [
      "<KeysViewHDF5 ['Geschlecht', 'Remission_and_Response', 'X', 'confs_scale_info', 'i', 'scale_info']> <KeysViewHDF5 ['X_col_names', 'confs', 'labels']> confs: ['Geschlecht']\n"
     ]
    }
   ],
   "source": [
    "# counfounding variable sex for outcome\n",
    "infile = '/home/marijatochadse/1_data/EPOC/csv_files/EPOC_remres_EEG_pat_83.csv'\n",
    "variables = ['CPz_400to2000_Av_neutr_neg_GC', 'CP2_400to2000_Av_neutr_neg_GC', 'CP1_400to2000_Av_neutr_neg_GC' , 'P2_400to2000_Av_neutr_neg_GC', 'Pz_400to2000_Av_neutr_neg_GC',  'P1_400to2000_Av_neutr_neg_GC', 'Cz_400to2000_Av_neutr_neg_GC']\n",
    "confs = ['Geschlecht']\n",
    "y = 'Remission_and_Response'\n",
    "\n",
    "save_path = os.path.join('/home/marijatochadse/1_data/EPOC/h5_files', 'EEG_neutrneg_OUTRemRes_CONFSSex.h5')\n",
    "\n",
    "fm = makeMLpipelineFiles(infile)\n",
    "fm.format_data(y, variables, confs)\n",
    "fm.create_h5(save_path)"
   ]
  },
  {
   "cell_type": "markdown",
   "id": "93b4b23c",
   "metadata": {},
   "source": [
    "### Make h5 files for sMRI"
   ]
  },
  {
   "cell_type": "code",
   "execution_count": 79,
   "id": "8b041298",
   "metadata": {},
   "outputs": [
    {
     "data": {
      "text/plain": [
       "['lh_rpSTS_L_volume',\n",
       " 'lh_cpSTS_L_volume',\n",
       " 'lh_A7r_L_volume',\n",
       " 'lh_A7c_L_volume',\n",
       " 'lh_A5l_L_volume',\n",
       " 'lh_A7pc_L_volume',\n",
       " 'lh_A7ip_L_volume',\n",
       " 'lh_A39c_L_volume',\n",
       " 'lh_A39rd_L_volume',\n",
       " 'lh_A40rd_L_volume',\n",
       " 'lh_A40c_L_volume',\n",
       " 'lh_A39rv_L_volume',\n",
       " 'lh_A40rv_L_volume',\n",
       " 'lh_A7m_L_volume',\n",
       " 'lh_A5m_L_volume',\n",
       " 'lh_dmPOS_L_volume',\n",
       " 'lh_A31_L_volume',\n",
       " 'lh_3ulhf_L_volume',\n",
       " 'lh_3tonIa_L_volume',\n",
       " 'lh_A2_L_volume',\n",
       " 'lh_3tru_L_volume',\n",
       " 'lh_G_L_volume',\n",
       " 'lh_vIa_L_volume',\n",
       " 'lh_dIa_L_volume',\n",
       " 'lh_vIg_L_volume',\n",
       " 'lh_dIg_L_volume',\n",
       " 'lh_dId_L_volume',\n",
       " 'lh_A23d_L_volume',\n",
       " 'lh_A24rv_L_volume',\n",
       " 'lh_A32p_L_volume',\n",
       " 'lh_A23v_L_volume',\n",
       " 'lh_A24cd_L_volume',\n",
       " 'lh_A23c_L_volume',\n",
       " 'lh_A32sg_L_volume',\n",
       " 'lh_cLinG_L_volume',\n",
       " 'lh_rCunG_L_volume',\n",
       " 'lh_cCunG_L_volume',\n",
       " 'lh_rLinG_L_volume',\n",
       " 'lh_vmPOS_L_volume',\n",
       " 'lh_mOccG_L_volume',\n",
       " 'lh_MT+_L_volume',\n",
       " 'lh_OPC_L_volume',\n",
       " 'lh_iOccG_L_volume',\n",
       " 'lh_msOccG_L_volume',\n",
       " 'lh_lsOccG_L_volume',\n",
       " 'BrainSegVolNotVent.3',\n",
       " 'eTIV.2',\n",
       " 'rh_A8m_R_volume',\n",
       " 'rh_A8dl_R_volume',\n",
       " 'rh_A9l_R_volume',\n",
       " 'rh_A6dl_R_volume',\n",
       " 'rh_A6m_R_volume',\n",
       " 'rh_A9m_R_volume',\n",
       " 'rh_A10m_R_volume',\n",
       " 'rh_46d_R_volume',\n",
       " 'rh_IFJ_R_volume',\n",
       " 'rh_A46_R_volume',\n",
       " 'rh_46v_R_volume',\n",
       " 'rh_A8vl_R_volume',\n",
       " 'rh_A6vl_R_volume',\n",
       " 'rh_A10l_R_volume',\n",
       " 'rh_A44d_R_volume',\n",
       " 'rh_IFS_R_volume',\n",
       " 'rh_A45c_R_volume',\n",
       " 'rh_A45r_R_volume',\n",
       " 'rh_A44op_R_volume',\n",
       " 'rh_A44v_R_volume',\n",
       " 'rh_A14m_R_volume',\n",
       " 'rh_47o_R_volume',\n",
       " 'rh_A11l_R_volume',\n",
       " 'rh_A11m_R_volume',\n",
       " 'rh_A13_R_volume',\n",
       " 'rh_47l_R_volume',\n",
       " 'rh_A4hf_R_volume',\n",
       " 'rh_A6cdl_R_volume',\n",
       " 'rh_A4ul_R_volume',\n",
       " 'rh_A4t_R_volume',\n",
       " 'rh_A4tl_R_volume',\n",
       " 'rh_A6cvl_R_volume',\n",
       " 'rh_3ll_R_volume',\n",
       " 'rh_A4ll_R_volume',\n",
       " 'rh_A38m_R_volume',\n",
       " 'rh_42_R_volume',\n",
       " 'rh_TE1.2_R_volume',\n",
       " 'rh_A22c_R_volume',\n",
       " 'rh_A38l_R_volume',\n",
       " 'rh_A22r_R_volume',\n",
       " 'rh_A21c_R_volume',\n",
       " 'rh_A21r_R_volume',\n",
       " 'rh_A37dl_R_volume',\n",
       " 'rh_aSTS_R_volume',\n",
       " 'rh_A20iv_R_volume',\n",
       " 'rh_A37elv_R_volume',\n",
       " 'rh_A20r_R_volume',\n",
       " 'rh_A20il_R_volume',\n",
       " 'rh_A37vl_R_volume',\n",
       " 'rh_A20cl_R_volume',\n",
       " 'rh_A20cv_R_volume',\n",
       " 'rh_A20rv_R_volume',\n",
       " 'rh_A37mv_R_volume',\n",
       " 'rh_A37lv_R_volume',\n",
       " 'rh_36r_R_volume',\n",
       " 'rh_36c_R_volume',\n",
       " 'rh_TL_R_volume',\n",
       " 'rh_34_R_volume',\n",
       " 'rh_TI_R_volume',\n",
       " 'rh_TH_R_volume',\n",
       " 'rh_rpSTS_R_volume',\n",
       " 'rh_cpSTS_R_volume',\n",
       " 'rh_A7r_R_volume',\n",
       " 'rh_A7c_R_volume',\n",
       " 'rh_A5l_R_volume',\n",
       " 'rh_A7pc_R_volume',\n",
       " 'rh_A7ip_R_volume',\n",
       " 'rh_A39c_R_volume',\n",
       " 'rh_A39rd_R_volume',\n",
       " 'rh_A40rd_R_volume',\n",
       " 'rh_A40c_R_volume',\n",
       " 'rh_A39rv_R_volume',\n",
       " 'rh_A40rv_R_volume',\n",
       " 'rh_A7m_R_volume',\n",
       " 'rh_A5m_R_volume',\n",
       " 'rh_dmPOS_R_volume',\n",
       " 'rh_A31_R_volume',\n",
       " 'rh_3ulhf_R_volume',\n",
       " 'rh_3tonIa_R_volume',\n",
       " 'rh_A2_R_volume',\n",
       " 'rh_3tru_R_volume',\n",
       " 'rh_G_R_volume',\n",
       " 'rh_vIa_R_volume',\n",
       " 'rh_dIa_R_volume',\n",
       " 'rh_vIg_R_volume',\n",
       " 'rh_dIg_R_volume',\n",
       " 'rh_dId_R_volume',\n",
       " 'rh_A23d_R_volume',\n",
       " 'rh_A24rv_R_volume',\n",
       " 'rh_A32p_R_volume',\n",
       " 'rh_A23v_R_volume',\n",
       " 'rh_A24cd_R_volume',\n",
       " 'rh_A23c_R_volume',\n",
       " 'rh_A32sg_R_volume',\n",
       " 'rh_cLinG_R_volume',\n",
       " 'rh_rCunG_R_volume',\n",
       " 'rh_cCunG_R_volume',\n",
       " 'rh_rLinG_R_volume',\n",
       " 'rh_vmPOS_R_volume',\n",
       " 'rh_mOccG_R_volume',\n",
       " 'rh_MT+_R_volume',\n",
       " 'rh_OPC_R_volume',\n",
       " 'rh_iOccG_R_volume',\n",
       " 'rh_msOccG_R_volume',\n",
       " 'rh_lsOccG_R_volume',\n",
       " 'BrainSegVolNotVent.4',\n",
       " 'eTIV.3']"
      ]
     },
     "execution_count": 79,
     "metadata": {},
     "output_type": "execute_result"
    }
   ],
   "source": [
    "data = pd.read_csv('/home/marijatochadse/1_data/EPOC/csv_files/EPOC_MRI_pat_90.csv', sep=\",\")\n",
    "MRI_variables = data.columns.values.tolist()\n",
    "MRI_variables = variables[342:889]\n",
    "MRI_variables"
   ]
  },
  {
   "cell_type": "code",
   "execution_count": 76,
   "id": "2f03307d",
   "metadata": {},
   "outputs": [
    {
     "name": "stdout",
     "output_type": "stream",
     "text": [
      "<KeysViewHDF5 ['Response', 'X', 'i', 'scale_info']> <KeysViewHDF5 ['X_col_names', 'labels']> confs: []\n",
      "<KeysViewHDF5 ['Remission', 'X', 'i', 'scale_info']> <KeysViewHDF5 ['X_col_names', 'labels']> confs: []\n"
     ]
    }
   ],
   "source": [
    "infile = '/home/marijatochadse/1_data/EPOC/csv_files/EPOC_MRI_pat_90.csv'\n",
    "variables = MRI_variables\n",
    "y_vars = ['Response', 'Remission']\n",
    "\n",
    "for i in y_vars:\n",
    "    y = i\n",
    "\n",
    "    save_path = os.path.join('/home/marijatochadse/1_data/EPOC/h5_files', 'MRI_OUT' + i + '.h5')\n",
    "\n",
    "    fm = makeMLpipelineFiles(infile)\n",
    "    fm.format_data(y, variables)\n",
    "    fm.create_h5(save_path)"
   ]
  },
  {
   "cell_type": "code",
   "execution_count": 77,
   "id": "e0b95d7d",
   "metadata": {},
   "outputs": [
    {
     "name": "stdout",
     "output_type": "stream",
     "text": [
      "<KeysViewHDF5 ['Geschlecht', 'Remission', 'X', 'confs_scale_info', 'i', 'scale_info']> <KeysViewHDF5 ['X_col_names', 'confs', 'labels']> confs: ['Geschlecht']\n"
     ]
    }
   ],
   "source": [
    "# confounding variable sex\n",
    "y = 'Remission'\n",
    "confs = [\"Geschlecht\"]\n",
    "\n",
    "fm = makeMLpipelineFiles(infile)\n",
    "fm.format_data(y, variables, confs)\n",
    "fm.create_h5('/home/marijatochadse/1_data/EPOC/h5_files/MRI_OUTRemission_CONFSSex.h5')"
   ]
  },
  {
   "cell_type": "markdown",
   "id": "1137c22a",
   "metadata": {},
   "source": [
    "#### multimodal"
   ]
  },
  {
   "cell_type": "code",
   "execution_count": 97,
   "id": "2df34637",
   "metadata": {},
   "outputs": [],
   "source": [
    "TAB = [\"Alter\", \"SES_Bildung\", \"MADRS_Summe_T0\", \"BDI_II_Summe\", \"STAI_TRAIT\", \"WST_Summe\", \"NEOFFI_Neurotizismus_Skala_Summenscore\", \"NEOFFI_Extraversion_Skala_Summenscore\", \"Summe_FB_ExekFunk_Emotionalitaet\", \"Summe_FB_ExekFunk\", \"SKID2_Skala_Selbstunsichere_Summe\", \"SKID2_Skala_Zwanghafte_Summe\", \"SKID2_Skala_Schizotypische_Summe\", \"SKID2_Skala_Borderline_Summe\", \"TCI_Summe_Skala_PessimismusOptimismus\", \"TCI_Summe_Skala_AngstUngewisses\", \"TCI_Summe_Skala_Schuechternheit\", \"TCI_Summe_Skala_Ermuedbarkeit\", \"F32F33\", \"Gruppe_Neu\", \"MedLetzte3Monate_Substanzklasse\", \"OCI_R_Summe_Waschen\", \"OCI_R_Summe_Kontrollieren\", \"OCI_R_Summe_Ordnen\", \"OCI_R_Summe_Zwangsgedanken\", \"OCI_R_Summe_Horten\", \"OCI_R_Summe_MentalesNeutralisieren\", \"BeginnDSM_OCD_Master\", \"OCTCDQ_Summe_Schadensvermeidung\", \"OCTCDQ_Summe_Unvollstaendigkeitserleben\", \"YBOO00T0\", \"YBOO01T0\"] \n",
    "EEG_neutrneg = ['CPz_400to2000_Av_neutr_neg_GC', 'CP2_400to2000_Av_neutr_neg_GC', 'CP1_400to2000_Av_neutr_neg_GC' , 'P2_400to2000_Av_neutr_neg_GC', 'Pz_400to2000_Av_neutr_neg_GC',  'P1_400to2000_Av_neutr_neg_GC', 'Cz_400to2000_Av_neutr_neg_GC']\n",
    "\n",
    "variables = TAB\n",
    "variables.extend(EEG_neutrneg)\n",
    "variables.extend(MRI_variables)"
   ]
  },
  {
   "cell_type": "code",
   "execution_count": 99,
   "id": "1d166166",
   "metadata": {},
   "outputs": [
    {
     "name": "stdout",
     "output_type": "stream",
     "text": [
      "<KeysViewHDF5 ['Response', 'X', 'i', 'scale_info']> <KeysViewHDF5 ['X_col_names', 'labels']> confs: []\n",
      "<KeysViewHDF5 ['Remission', 'X', 'i', 'scale_info']> <KeysViewHDF5 ['X_col_names', 'labels']> confs: []\n"
     ]
    }
   ],
   "source": [
    "infile = '/home/marijatochadse/1_data/EPOC/csv_files/EPOC_TAB_EEG_MRI_pat_84.csv'\n",
    "variables = variables\n",
    "y_vars = ['Response', 'Remission']\n",
    "\n",
    "for i in y_vars:\n",
    "    y = i\n",
    "\n",
    "    save_path = os.path.join('/home/marijatochadse/1_data/EPOC/h5_files', 'TAB_EEG_MRI_OUT' + i + '.h5')\n",
    "\n",
    "    fm = makeMLpipelineFiles(infile)\n",
    "    fm.format_data(y, variables)\n",
    "    fm.create_h5(save_path)"
   ]
  },
  {
   "cell_type": "code",
   "execution_count": 100,
   "id": "fae20555",
   "metadata": {},
   "outputs": [
    {
     "name": "stdout",
     "output_type": "stream",
     "text": [
      "<KeysViewHDF5 ['Geschlecht', 'Remission', 'X', 'confs_scale_info', 'i', 'scale_info']> <KeysViewHDF5 ['X_col_names', 'confs', 'labels']> confs: ['Geschlecht']\n"
     ]
    }
   ],
   "source": [
    "# confounding variable sex\n",
    "y = 'Remission'\n",
    "confs = [\"Geschlecht\"]\n",
    "\n",
    "fm = makeMLpipelineFiles(infile)\n",
    "fm.format_data(y, variables, confs)\n",
    "fm.create_h5('/home/marijatochadse/1_data/EPOC/h5_files/TAB_EEG_MRI_OUTRemission_CONFSSex.h5')"
   ]
  },
  {
   "cell_type": "markdown",
   "id": "0c6d7d8c",
   "metadata": {},
   "source": [
    "### make h5 files for rs-fMRI"
   ]
  },
  {
   "cell_type": "code",
   "execution_count": 111,
   "id": "674f82bf",
   "metadata": {},
   "outputs": [],
   "source": [
    "fMRI_variables = list(np.arange(30629))"
   ]
  },
  {
   "cell_type": "code",
   "execution_count": null,
   "id": "cc27cfd3",
   "metadata": {},
   "outputs": [],
   "source": [
    "infile = '/home/marijatochadse/1_data/EPOC/csv_files/EPOC_TAB_fMRI_pat_80.csv'\n",
    "variables = fMRI_variables\n",
    "y_vars = ['Response', 'Remission']\n",
    "\n",
    "for i in y_vars:\n",
    "    y = i\n",
    "\n",
    "    save_path = os.path.join('/home/marijatochadse/1_data/EPOC/h5_files', 'fMRI_OUT' + i + '.h5')\n",
    "\n",
    "    fm = makeMLpipelineFiles(infile)\n",
    "    fm.format_data(y, variables)\n",
    "    fm.create_h5(save_path)"
   ]
  },
  {
   "cell_type": "code",
   "execution_count": null,
   "id": "c5617a23",
   "metadata": {},
   "outputs": [],
   "source": []
  },
  {
   "cell_type": "code",
   "execution_count": null,
   "id": "ce93ebcf",
   "metadata": {},
   "outputs": [],
   "source": []
  },
  {
   "cell_type": "code",
   "execution_count": null,
   "id": "f9eb0708",
   "metadata": {},
   "outputs": [],
   "source": []
  }
 ],
 "metadata": {
  "kernelspec": {
   "display_name": "Python 3 (ipykernel)",
   "language": "python",
   "name": "python3"
  },
  "language_info": {
   "codemirror_mode": {
    "name": "ipython",
    "version": 3
   },
   "file_extension": ".py",
   "mimetype": "text/x-python",
   "name": "python",
   "nbconvert_exporter": "python",
   "pygments_lexer": "ipython3",
   "version": "3.9.12"
  }
 },
 "nbformat": 4,
 "nbformat_minor": 5
}
