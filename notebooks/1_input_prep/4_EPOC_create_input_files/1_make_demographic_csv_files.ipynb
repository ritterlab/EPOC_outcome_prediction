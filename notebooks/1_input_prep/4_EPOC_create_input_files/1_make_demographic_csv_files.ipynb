{
 "cells": [
  {
   "cell_type": "code",
   "id": "312d78ed",
   "metadata": {},
   "source": [
    "import os\n",
    "import glob\n",
    "import fnmatch\n",
    "import numpy as np\n",
    "import pandas as pd\n",
    "import seaborn as sns\n",
    "import matplotlib.pyplot as plt\n",
    "\n",
    "from src.configs import configs"
   ],
   "outputs": [],
   "execution_count": null
  },
  {
   "cell_type": "code",
   "id": "0c948d57",
   "metadata": {},
   "source": "epoc = pd.read_spss(f\"{configs.PROJECT_ROOT}/EPOC/EPOC_data_forSP9_mLPP.sav\")",
   "outputs": [],
   "execution_count": null
  },
  {
   "cell_type": "code",
   "execution_count": 174,
   "id": "408776b1",
   "metadata": {
    "scrolled": true
   },
   "outputs": [
    {
     "data": {
      "text/plain": [
       "(304, 342)"
      ]
     },
     "execution_count": 174,
     "metadata": {},
     "output_type": "execute_result"
    }
   ],
   "source": [
    "epoc.shape"
   ]
  },
  {
   "cell_type": "markdown",
   "id": "8d4d6199",
   "metadata": {},
   "source": [
    "#### Check variable values"
   ]
  },
  {
   "cell_type": "code",
   "execution_count": 5,
   "id": "79278fe5",
   "metadata": {},
   "outputs": [
    {
     "data": {
      "text/plain": [
       "['Index', 'Kontrolle']\n",
       "Categories (2, object): ['Index', 'Kontrolle']"
      ]
     },
     "execution_count": 5,
     "metadata": {},
     "output_type": "execute_result"
    }
   ],
   "source": [
    "epoc['Status'].unique()"
   ]
  },
  {
   "cell_type": "code",
   "execution_count": 6,
   "id": "6a50a0ce",
   "metadata": {},
   "outputs": [
    {
     "data": {
      "text/plain": [
       "['Kein Ausschluss', 'Ausschluss']\n",
       "Categories (2, object): ['Ausschluss', 'Kein Ausschluss']"
      ]
     },
     "execution_count": 6,
     "metadata": {},
     "output_type": "execute_result"
    }
   ],
   "source": [
    "epoc['Ausschluss'].unique()"
   ]
  },
  {
   "cell_type": "code",
   "execution_count": 7,
   "id": "e47d0427",
   "metadata": {},
   "outputs": [
    {
     "data": {
      "text/plain": [
       "NaN    179\n",
       "1.0     75\n",
       "0.0     50\n",
       "Name: Response, dtype: int64"
      ]
     },
     "execution_count": 7,
     "metadata": {},
     "output_type": "execute_result"
    }
   ],
   "source": [
    "epoc['Response'].value_counts(dropna=False)"
   ]
  },
  {
   "cell_type": "code",
   "execution_count": 8,
   "id": "4bf4e988",
   "metadata": {},
   "outputs": [
    {
     "data": {
      "text/plain": [
       "NaN    179\n",
       "0.0     63\n",
       "1.0     62\n",
       "Name: Remission, dtype: int64"
      ]
     },
     "execution_count": 8,
     "metadata": {},
     "output_type": "execute_result"
    }
   ],
   "source": [
    "epoc['Remission'].value_counts(dropna=False)"
   ]
  },
  {
   "cell_type": "markdown",
   "id": "3db49e4e",
   "metadata": {},
   "source": [
    "#### Delete healthy controls"
   ]
  },
  {
   "cell_type": "code",
   "execution_count": 175,
   "id": "93f19b74",
   "metadata": {},
   "outputs": [
    {
     "name": "stdout",
     "output_type": "stream",
     "text": [
      "(142, 342)\n"
     ]
    }
   ],
   "source": [
    "target_to_list_status = ['Index']\n",
    "\n",
    "epoc = epoc[epoc['Status'].isin(target_to_list_status)]\n",
    "print(epoc.shape)"
   ]
  },
  {
   "cell_type": "markdown",
   "id": "53628466",
   "metadata": {},
   "source": [
    "#### Delete \"Ausschluss\" subjects"
   ]
  },
  {
   "cell_type": "code",
   "execution_count": 176,
   "id": "6fa7a132",
   "metadata": {},
   "outputs": [
    {
     "name": "stdout",
     "output_type": "stream",
     "text": [
      "(134, 342)\n"
     ]
    }
   ],
   "source": [
    "target_to_list = ['Kein Ausschluss']\n",
    "\n",
    "epoc = epoc[epoc['Ausschluss'].isin(target_to_list)]\n",
    "print(epoc.shape)"
   ]
  },
  {
   "cell_type": "markdown",
   "id": "d28b6100",
   "metadata": {},
   "source": [
    "#### Delete subjects with missing \"Response\" or \"Remission\" values"
   ]
  },
  {
   "cell_type": "code",
   "execution_count": 177,
   "id": "ba553900",
   "metadata": {},
   "outputs": [
    {
     "name": "stdout",
     "output_type": "stream",
     "text": [
      "(119, 342)\n"
     ]
    }
   ],
   "source": [
    "epoc = epoc.dropna(subset=['Response'])\n",
    "print(epoc.shape)"
   ]
  },
  {
   "cell_type": "code",
   "execution_count": 178,
   "id": "22c11761",
   "metadata": {
    "scrolled": true
   },
   "outputs": [
    {
     "name": "stdout",
     "output_type": "stream",
     "text": [
      "(119, 342)\n"
     ]
    }
   ],
   "source": [
    "epoc = epoc.dropna(subset=['Remission'])\n",
    "print(epoc.shape)"
   ]
  },
  {
   "cell_type": "markdown",
   "id": "e60e3bad",
   "metadata": {},
   "source": [
    "Subjects with missing Response values are identical to subjects with missing Remission values"
   ]
  },
  {
   "cell_type": "markdown",
   "id": "4b81c1c5",
   "metadata": {},
   "source": [
    "#### Check for NaNs"
   ]
  },
  {
   "cell_type": "code",
   "execution_count": 13,
   "id": "627c995c",
   "metadata": {},
   "outputs": [
    {
     "data": {
      "text/plain": [
       "Weiblich    62\n",
       "Männlich    57\n",
       "Name: Geschlecht, dtype: int64"
      ]
     },
     "execution_count": 13,
     "metadata": {},
     "output_type": "execute_result"
    }
   ],
   "source": [
    "epoc['Geschlecht'].value_counts(dropna=False)"
   ]
  },
  {
   "cell_type": "code",
   "id": "b83a5a82",
   "metadata": {
    "scrolled": true
   },
   "source": [
    "epoc['Alter'].value_counts(dropna=False)"
   ],
   "outputs": [],
   "execution_count": null
  },
  {
   "cell_type": "markdown",
   "id": "aac7b200",
   "metadata": {},
   "source": [
    "#### Save files for all patients (that were not excluded from the study)"
   ]
  },
  {
   "cell_type": "code",
   "execution_count": 15,
   "id": "c51cb605",
   "metadata": {},
   "outputs": [],
   "source": [
    "# all variables\n",
    "epoc.to_csv(f'{configs.PROJECT_ROOT}/EPOC/csv_files/EPOC_all_pat_119.csv', index=False)"
   ]
  },
  {
   "cell_type": "markdown",
   "id": "2b5ae1b7",
   "metadata": {},
   "source": [
    "#### Save files for patients that have structural MRI scans"
   ]
  },
  {
   "cell_type": "code",
   "id": "7e5e77d0",
   "metadata": {
    "scrolled": true
   },
   "source": [
    "pat_labels_julia = epoc['Code'].unique()\n",
    "pat_labels_julia.sort()\n",
    "print(pat_labels_julia)\n",
    "print(pat_labels_julia.shape)"
   ],
   "outputs": [],
   "execution_count": null
  },
  {
   "cell_type": "code",
   "execution_count": 18,
   "id": "a3903814",
   "metadata": {},
   "outputs": [],
   "source": [
    "pat_labels_julia = np.ndarray.tolist(pat_labels_julia)"
   ]
  },
  {
   "cell_type": "code",
   "id": "dfecc0a9",
   "metadata": {
    "scrolled": true
   },
   "source": [
    "pat_labels_christian = fnmatch.filter(os.listdir(f'{configs.PROJECT_ROOT}/EPOC/EPOC_BIDS/EPOC_derivatives'), 'sub-epocp*')\n",
    "pat_labels_christian.sort()\n",
    "pat_labels_christian"
   ],
   "outputs": [],
   "execution_count": null
  },
  {
   "cell_type": "code",
   "execution_count": 20,
   "id": "1f86a7d1",
   "metadata": {},
   "outputs": [],
   "source": [
    "pat_labels_christian_new = []\n",
    "for subj in pat_labels_christian:\n",
    "    \n",
    "    subj_new = subj[4:8] + '_' + subj[8] + '_' + subj[9:None]\n",
    "    pat_labels_christian_new.append(subj_new)"
   ]
  },
  {
   "cell_type": "code",
   "execution_count": 21,
   "id": "5d4c1a78",
   "metadata": {},
   "outputs": [
    {
     "data": {
      "text/plain": [
       "103"
      ]
     },
     "execution_count": 21,
     "metadata": {},
     "output_type": "execute_result"
    }
   ],
   "source": [
    "len(pat_labels_christian_new)"
   ]
  },
  {
   "cell_type": "code",
   "execution_count": 22,
   "id": "b03e29a6",
   "metadata": {},
   "outputs": [],
   "source": [
    "epoc_T1only = epoc.loc[epoc['Code'].isin(pat_labels_christian_new)]"
   ]
  },
  {
   "cell_type": "code",
   "execution_count": 23,
   "id": "7e1111a6",
   "metadata": {},
   "outputs": [
    {
     "data": {
      "text/plain": [
       "(90, 342)"
      ]
     },
     "execution_count": 23,
     "metadata": {},
     "output_type": "execute_result"
    }
   ],
   "source": [
    "epoc_T1only.shape"
   ]
  },
  {
   "cell_type": "code",
   "id": "a595970a",
   "metadata": {},
   "source": [
    "epoc_T1only"
   ],
   "outputs": [],
   "execution_count": null
  },
  {
   "cell_type": "code",
   "id": "fc3bf413",
   "metadata": {},
   "source": [
    "epoc_T1only.head()"
   ],
   "outputs": [],
   "execution_count": null
  },
  {
   "cell_type": "code",
   "execution_count": 26,
   "id": "73c29ff7",
   "metadata": {},
   "outputs": [],
   "source": [
    "# all variables\n",
    "epoc_T1only.to_csv(f'{configs.PROJECT_ROOT}/EPOC/csv_files/EPOC_T1_pat_90.csv', index=False)"
   ]
  },
  {
   "cell_type": "markdown",
   "id": "3e223b09",
   "metadata": {},
   "source": [
    "#### Save file for patients that have rs-fMRI scans"
   ]
  },
  {
   "cell_type": "code",
   "id": "9810ddb4",
   "metadata": {
    "scrolled": true
   },
   "source": [
    "pat_labels_fMRI = fnmatch.filter(os.listdir(f'{configs.PROJECT_ROOT}/EPOC/halfpipe_patients_only'), 'sub-epocp*')\n",
    "pat_labels_fMRI.sort()\n",
    "pat_labels_fMRI"
   ],
   "outputs": [],
   "execution_count": null
  },
  {
   "cell_type": "code",
   "execution_count": 29,
   "id": "497ea231",
   "metadata": {},
   "outputs": [],
   "source": [
    "pat_labels_fMRI_new = []\n",
    "for subj in pat_labels_fMRI:\n",
    "    \n",
    "    subj_new = subj[4:8] + '_' + subj[8] + '_' + subj[9:None]\n",
    "    pat_labels_fMRI_new.append(subj_new)"
   ]
  },
  {
   "cell_type": "code",
   "execution_count": 30,
   "id": "9c369093",
   "metadata": {},
   "outputs": [
    {
     "data": {
      "text/plain": [
       "93"
      ]
     },
     "execution_count": 30,
     "metadata": {},
     "output_type": "execute_result"
    }
   ],
   "source": [
    "len(pat_labels_fMRI_new)"
   ]
  },
  {
   "cell_type": "code",
   "execution_count": 31,
   "id": "2790a84c",
   "metadata": {},
   "outputs": [],
   "source": [
    "epoc_fMRI = epoc.loc[epoc['Code'].isin(pat_labels_fMRI_new)]"
   ]
  },
  {
   "cell_type": "code",
   "execution_count": 32,
   "id": "f3690f6e",
   "metadata": {},
   "outputs": [
    {
     "data": {
      "text/plain": [
       "(80, 342)"
      ]
     },
     "execution_count": 32,
     "metadata": {},
     "output_type": "execute_result"
    }
   ],
   "source": [
    "epoc_fMRI.shape"
   ]
  },
  {
   "cell_type": "code",
   "id": "947ced6d",
   "metadata": {},
   "source": [
    "epoc_fMRI.head()"
   ],
   "outputs": [],
   "execution_count": null
  },
  {
   "cell_type": "code",
   "execution_count": 34,
   "id": "7f281277",
   "metadata": {},
   "outputs": [],
   "source": "epoc_fMRI.to_csv(f'{configs.PROJECT_ROOT}/EPOC/csv_files/EPOC_fMRI_pat_80.csv', index=False)"
  }
 ],
 "metadata": {
  "kernelspec": {
   "display_name": "Python 3 (ipykernel)",
   "language": "python",
   "name": "python3"
  },
  "language_info": {
   "codemirror_mode": {
    "name": "ipython",
    "version": 3
   },
   "file_extension": ".py",
   "mimetype": "text/x-python",
   "name": "python",
   "nbconvert_exporter": "python",
   "pygments_lexer": "ipython3",
   "version": "3.9.12"
  }
 },
 "nbformat": 4,
 "nbformat_minor": 5
}
