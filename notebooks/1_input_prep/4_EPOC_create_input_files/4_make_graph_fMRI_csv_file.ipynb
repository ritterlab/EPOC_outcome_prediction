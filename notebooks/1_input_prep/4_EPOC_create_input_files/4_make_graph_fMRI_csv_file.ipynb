{
 "cells": [
  {
   "cell_type": "code",
   "metadata": {},
   "source": [
    "import numpy as np\n",
    "import matplotlib.pyplot as plt\n",
    "import pandas as pd\n",
    "from scipy import stats\n",
    "import shutil\n",
    "from glob import glob\n",
    "\n",
    "from src.configs import configs"
   ],
   "outputs": [],
   "execution_count": null
  },
  {
   "cell_type": "code",
   "execution_count": 2,
   "metadata": {},
   "outputs": [],
   "source": "SAVE_DIR = f'{configs.PROJECT_ROOT}/EPOC/EPOC_graphs/'"
  },
  {
   "cell_type": "code",
   "execution_count": 17,
   "metadata": {},
   "outputs": [],
   "source": [
    "df = pd.concat([pd.read_csv(csv) for csv in glob(SAVE_DIR+\"/*_rs_graph_features.csv\")], ignore_index=True)"
   ]
  },
  {
   "cell_type": "code",
   "metadata": {},
   "source": [
    "df_subs = df.copy()\n",
    "\n",
    "for isub in range(df.shape[0]):\n",
    "    df_subs['subject_ID'][isub] = df['subject_ID'][isub][4:8] + '_' + df['subject_ID'][isub][8] + '_' + df['subject_ID'][isub][9:None]"
   ],
   "outputs": [],
   "execution_count": null
  },
  {
   "cell_type": "code",
   "metadata": {},
   "source": [
    "df_subs"
   ],
   "outputs": [],
   "execution_count": null
  },
  {
   "cell_type": "code",
   "execution_count": 27,
   "metadata": {},
   "outputs": [],
   "source": [
    "sorted_df = df_subs.sort_values(by='subject_ID').reset_index(drop=True)"
   ]
  },
  {
   "cell_type": "code",
   "metadata": {},
   "source": [
    "# select only subjects with demografic info\n",
    "epoc_dem = pd.read_csv(f'{configs.PROJECT_ROOT}/EPOC/csv_files/EPOC_fMRI_pat_80.csv', sep=\",\")\n",
    "pat_labels_epoc = epoc_dem['Code'].unique()\n",
    "pat_labels_epoc.sort()\n",
    "print(pat_labels_epoc.shape)\n",
    "pat_labels_epoc = np.ndarray.tolist(pat_labels_epoc)\n",
    "print(pat_labels_epoc)"
   ],
   "outputs": [],
   "execution_count": null
  },
  {
   "cell_type": "code",
   "execution_count": 34,
   "metadata": {},
   "outputs": [
    {
     "name": "stdout",
     "output_type": "stream",
     "text": [
      "(80, 10)\n"
     ]
    }
   ],
   "source": [
    "df_rs =sorted_df.loc[sorted_df.iloc[:,-1].isin(pat_labels_epoc)]\n",
    "print(df_rs.shape)"
   ]
  },
  {
   "cell_type": "code",
   "execution_count": 38,
   "metadata": {},
   "outputs": [],
   "source": [
    "df_rs = df_rs.reset_index(drop=True)"
   ]
  },
  {
   "cell_type": "code",
   "metadata": {},
   "source": [
    "df_rs"
   ],
   "outputs": [],
   "execution_count": null
  },
  {
   "cell_type": "code",
   "execution_count": 41,
   "metadata": {},
   "outputs": [],
   "source": "df_rs.to_csv(f'{configs.PROJECT_ROOT}/EPOC/csv_files/MRI_csv_files/global_graph_rsfMRI_80pat.csv', index=False)"
  },
  {
   "cell_type": "code",
   "execution_count": null,
   "metadata": {},
   "outputs": [],
   "source": []
  }
 ],
 "metadata": {
  "kernelspec": {
   "display_name": "base",
   "language": "python",
   "name": "python3"
  },
  "language_info": {
   "codemirror_mode": {
    "name": "ipython",
    "version": 3
   },
   "file_extension": ".py",
   "mimetype": "text/x-python",
   "name": "python",
   "nbconvert_exporter": "python",
   "pygments_lexer": "ipython3",
   "version": "3.9.12"
  }
 },
 "nbformat": 4,
 "nbformat_minor": 2
}
