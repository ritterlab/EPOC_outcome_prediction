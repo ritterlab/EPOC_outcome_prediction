{
 "cells": [
  {
   "cell_type": "code",
   "execution_count": 10,
   "id": "76fd822f",
   "metadata": {},
   "outputs": [],
   "source": [
    "import numpy as np\n",
    "import matplotlib.pyplot as plt\n",
    "import pandas as pd\n",
    "import pyreadstat\n",
    "import seaborn as sns\n",
    "from scipy import stats\n",
    "import os\n",
    "import shutil\n",
    "import glob\n",
    "\n",
    "from src.configs import configs\n",
    "\n",
    "cmap = plt.cm.rainbow\n",
    "import h5py"
   ]
  },
  {
   "cell_type": "code",
   "execution_count": 2,
   "id": "3eb1b154",
   "metadata": {},
   "outputs": [],
   "source": [
    "pd.set_option('display.max_rows', 100)\n",
    "pd.set_option('display.max_columns', 300)"
   ]
  },
  {
   "cell_type": "code",
   "execution_count": 5,
   "id": "659039e7",
   "metadata": {},
   "outputs": [],
   "source": "halfpipe_dir = f'{configs.PROJECT_ROOT}/EPOC/halfpipe_patients_only'"
  },
  {
   "cell_type": "code",
   "id": "51e51a4e",
   "metadata": {
    "scrolled": true
   },
   "source": [
    "subj_folders = os.listdir(halfpipe_dir)\n",
    "subj_folders.sort()\n",
    "print(subj_folders)"
   ],
   "outputs": [],
   "execution_count": null
  },
  {
   "cell_type": "code",
   "execution_count": 7,
   "id": "bd1073c1",
   "metadata": {},
   "outputs": [],
   "source": [
    "mask = np.ones((263,263))\n",
    "mask = pd.DataFrame(mask)"
   ]
  },
  {
   "cell_type": "code",
   "id": "af9ce011",
   "metadata": {},
   "source": [
    "cnt = 0\n",
    "\n",
    "for subj in subj_folders:\n",
    "    \n",
    "    file_name = subj + '_task-rest_feature-corrMatrixAroma_atlas-brainnetomeCombinedDseg_desc-correlation_matrix.tsv'\n",
    "    file_path = os.path.join(halfpipe_dir, subj, 'func', 'task-rest', file_name)\n",
    "    \n",
    "    # load correlation matrix\n",
    "    rs_mat = pd.read_csv(file_path, sep=\"\\t\", header=None)\n",
    "    \n",
    "    # set lower triangle and diagonal to nan\n",
    "    df_mat = rs_mat.where(np.triu(np.ones(rs_mat.shape), k=1).astype(bool))\n",
    "    \n",
    "    # get nan values in correlation matrix\n",
    "    subj_mask = ~df_mat.isna()\n",
    "    \n",
    "    # mask out nan values from all-subject mask\n",
    "    mask = mask.where(subj_mask, 0)\n",
    "    \n",
    "    print('subject {} done'.format(subj))\n",
    "    \n",
    "    cnt = cnt+1"
   ],
   "outputs": [],
   "execution_count": null
  },
  {
   "cell_type": "code",
   "execution_count": 9,
   "id": "b91b3112",
   "metadata": {},
   "outputs": [],
   "source": [
    "df_mask = mask.copy()"
   ]
  },
  {
   "cell_type": "code",
   "execution_count": 10,
   "id": "1c7c35b0",
   "metadata": {},
   "outputs": [],
   "source": [
    "mask.replace(0, np.nan, inplace=True)\n",
    "mask_vec = mask.stack().reset_index()\n",
    "mask_vec = mask_vec.drop(['level_0', 'level_1'], axis=1)"
   ]
  },
  {
   "cell_type": "code",
   "execution_count": 11,
   "id": "1e4814c0",
   "metadata": {},
   "outputs": [],
   "source": [
    "df_mask = df_mask.astype(bool)"
   ]
  },
  {
   "cell_type": "code",
   "execution_count": 12,
   "id": "b180d72c",
   "metadata": {},
   "outputs": [],
   "source": [
    "df_corr=pd.DataFrame()"
   ]
  },
  {
   "cell_type": "code",
   "execution_count": 13,
   "id": "40009f98",
   "metadata": {},
   "outputs": [
    {
     "data": {
      "text/plain": [
       "(0, 0)"
      ]
     },
     "execution_count": 13,
     "metadata": {},
     "output_type": "execute_result"
    }
   ],
   "source": [
    "df_corr.shape"
   ]
  },
  {
   "cell_type": "code",
   "id": "ccf70842",
   "metadata": {},
   "source": [
    "cnt = 0\n",
    "\n",
    "for subj in subj_folders:\n",
    "    \n",
    "    file_name = subj + '_task-rest_feature-corrMatrixAroma_atlas-brainnetomeCombinedDseg_desc-correlation_matrix.tsv'\n",
    "    file_path = os.path.join(halfpipe_dir, subj, 'func', 'task-rest', file_name)\n",
    "    \n",
    "    # load correlation matrix\n",
    "    rs_mat = pd.read_csv(file_path, sep=\"\\t\", header=None)\n",
    "    \n",
    "    # use mask, mask to nan (lower triangle and diagonal as well as missing values from all)\n",
    "    df = rs_mat.where(df_mask)\n",
    "    \n",
    "    # convert masked matrix to vector\n",
    "    df = df.stack().reset_index()\n",
    "    df = df.drop(['level_0', 'level_1'], axis=1)\n",
    "    \n",
    "    df_corr = pd.concat([df_corr, df.T], axis=0, ignore_index=True)\n",
    "     \n",
    "    print('subject {} done'.format(subj))\n",
    "    \n",
    "    cnt = cnt+1"
   ],
   "outputs": [],
   "execution_count": null
  },
  {
   "cell_type": "code",
   "execution_count": 15,
   "id": "6ac83e12",
   "metadata": {},
   "outputs": [
    {
     "data": {
      "text/plain": [
       "(93, 30628)"
      ]
     },
     "execution_count": 15,
     "metadata": {},
     "output_type": "execute_result"
    }
   ],
   "source": [
    "df_corr.shape"
   ]
  },
  {
   "cell_type": "code",
   "id": "253dda65",
   "metadata": {},
   "source": [
    "df_corr.head()"
   ],
   "outputs": [],
   "execution_count": null
  },
  {
   "cell_type": "code",
   "execution_count": 17,
   "id": "e1f01d40",
   "metadata": {},
   "outputs": [],
   "source": [
    "subj_codes = pd.DataFrame(subj_folders, columns=['subject'])"
   ]
  },
  {
   "cell_type": "code",
   "execution_count": 20,
   "id": "0e06037e",
   "metadata": {},
   "outputs": [],
   "source": [
    "subj_codes.iloc[:,0] = subj_codes.iloc[:,0].str[4:8] + '_' + subj_codes.iloc[:,0].str[8] + '_' + subj_codes.iloc[:,0].str[9:13]"
   ]
  },
  {
   "cell_type": "code",
   "id": "222443d9",
   "metadata": {},
   "source": [
    "subj_codes"
   ],
   "outputs": [],
   "execution_count": null
  },
  {
   "cell_type": "code",
   "execution_count": 22,
   "id": "7aae72b6",
   "metadata": {},
   "outputs": [],
   "source": [
    "df_corr_codes = pd.concat([subj_codes, df_corr], axis=1)"
   ]
  },
  {
   "cell_type": "code",
   "id": "152d164c",
   "metadata": {},
   "source": [
    "df_corr_codes.head()"
   ],
   "outputs": [],
   "execution_count": null
  },
  {
   "cell_type": "markdown",
   "id": "fd022ec4",
   "metadata": {},
   "source": [
    "### Save .csv with subjects that have outcome and demografic data"
   ]
  },
  {
   "cell_type": "code",
   "id": "1e4031b3",
   "metadata": {},
   "source": [
    "# select only subjects with demografic info\n",
    "epoc_dem = pd.read_csv(f'{configs.PROJECT_ROOT}/EPOC/csv_files/EPOC_fMRI_pat_80.csv', sep=\",\")\n",
    "pat_labels_epoc = epoc_dem['Code'].unique()\n",
    "pat_labels_epoc.sort()\n",
    "print(pat_labels_epoc.shape)\n",
    "pat_labels_epoc = np.ndarray.tolist(pat_labels_epoc)\n",
    "print(pat_labels_epoc)"
   ],
   "outputs": [],
   "execution_count": null
  },
  {
   "cell_type": "code",
   "metadata": {},
   "source": [
    "epoc_dem.head()"
   ],
   "id": "481b918f071faea7",
   "outputs": [],
   "execution_count": null
  },
  {
   "cell_type": "code",
   "execution_count": 28,
   "id": "e2d78943",
   "metadata": {},
   "outputs": [
    {
     "name": "stdout",
     "output_type": "stream",
     "text": [
      "(80, 30629)\n"
     ]
    }
   ],
   "source": [
    "df_fMRI_pat = df_corr_codes.loc[df_corr_codes.iloc[:,0].isin(pat_labels_epoc)]\n",
    "print(df_fMRI_pat.shape)"
   ]
  },
  {
   "cell_type": "code",
   "execution_count": 29,
   "id": "cd825597",
   "metadata": {},
   "outputs": [],
   "source": "df_fMRI_pat.to_csv(f'{configs.PROJECT_ROOT}/EPOC/csv_files/MRI_csv_files/rsfMRI_80pat.csv', index=False)"
  },
  {
   "cell_type": "code",
   "execution_count": null,
   "metadata": {},
   "outputs": [],
   "source": [],
   "id": "dac9cf6e94f09494"
  }
 ],
 "metadata": {
  "kernelspec": {
   "display_name": "Python 3 (ipykernel)",
   "language": "python",
   "name": "python3"
  },
  "language_info": {
   "codemirror_mode": {
    "name": "ipython",
    "version": 3
   },
   "file_extension": ".py",
   "mimetype": "text/x-python",
   "name": "python",
   "nbconvert_exporter": "python",
   "pygments_lexer": "ipython3",
   "version": "3.9.0"
  }
 },
 "nbformat": 4,
 "nbformat_minor": 5
}
