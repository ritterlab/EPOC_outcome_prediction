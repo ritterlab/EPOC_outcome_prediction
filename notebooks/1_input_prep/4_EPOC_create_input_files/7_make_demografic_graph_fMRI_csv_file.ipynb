{
 "cells": [
  {
   "cell_type": "code",
   "id": "e75f0112",
   "metadata": {},
   "source": [
    "import numpy as np\n",
    "import matplotlib.pyplot as plt\n",
    "import pandas as pd\n",
    "import pyreadstat\n",
    "import seaborn as sns\n",
    "from scipy import stats\n",
    "import os\n",
    "import shutil\n",
    "import glob\n",
    "\n",
    "from src.configs import configs"
   ],
   "outputs": [],
   "execution_count": null
  },
  {
   "cell_type": "code",
   "execution_count": 14,
   "id": "92f56565",
   "metadata": {},
   "outputs": [],
   "source": [
    "pd.set_option('display.max_rows', 100)\n",
    "pd.set_option('display.max_columns', 300)"
   ]
  },
  {
   "cell_type": "code",
   "execution_count": 3,
   "id": "02ac6d6d",
   "metadata": {},
   "outputs": [],
   "source": "fMRI_data = pd.read_csv(f'{configs.PROJECT_ROOT}/EPOC/csv_files/MRI_csv_files/global_graph_rsfMRI_80pat.csv')"
  },
  {
   "cell_type": "code",
   "execution_count": 4,
   "id": "57946f88",
   "metadata": {},
   "outputs": [
    {
     "data": {
      "text/html": [
       "<div>\n",
       "<style scoped>\n",
       "    .dataframe tbody tr th:only-of-type {\n",
       "        vertical-align: middle;\n",
       "    }\n",
       "\n",
       "    .dataframe tbody tr th {\n",
       "        vertical-align: top;\n",
       "    }\n",
       "\n",
       "    .dataframe thead th {\n",
       "        text-align: right;\n",
       "    }\n",
       "</style>\n",
       "<table border=\"1\" class=\"dataframe\">\n",
       "  <thead>\n",
       "    <tr style=\"text-align: right;\">\n",
       "      <th></th>\n",
       "      <th>weighted_transitivity</th>\n",
       "      <th>weighted_global_efficiency</th>\n",
       "      <th>weighted_clustering_coefficient_zhang</th>\n",
       "      <th>weighted_clustering_coefficient</th>\n",
       "      <th>weighted_triangle_number</th>\n",
       "      <th>weighted_density</th>\n",
       "      <th>weighted_sw_sigma</th>\n",
       "      <th>weighted_sw_omega</th>\n",
       "      <th>weighted_sw_omega_2</th>\n",
       "      <th>subject_ID</th>\n",
       "    </tr>\n",
       "  </thead>\n",
       "  <tbody>\n",
       "    <tr>\n",
       "      <th>0</th>\n",
       "      <td>0.210807</td>\n",
       "      <td>1.488729</td>\n",
       "      <td>0.298204</td>\n",
       "      <td>0.210807</td>\n",
       "      <td>7152.667090</td>\n",
       "      <td>0.253617</td>\n",
       "      <td>0.959284</td>\n",
       "      <td>0.769167</td>\n",
       "      <td>-1.036699</td>\n",
       "      <td>epoc_p_1004</td>\n",
       "    </tr>\n",
       "    <tr>\n",
       "      <th>1</th>\n",
       "      <td>0.358441</td>\n",
       "      <td>2.109690</td>\n",
       "      <td>0.450025</td>\n",
       "      <td>0.358441</td>\n",
       "      <td>12068.700852</td>\n",
       "      <td>0.397892</td>\n",
       "      <td>0.711052</td>\n",
       "      <td>0.586217</td>\n",
       "      <td>-8.065349</td>\n",
       "      <td>epoc_p_1005</td>\n",
       "    </tr>\n",
       "    <tr>\n",
       "      <th>2</th>\n",
       "      <td>0.372082</td>\n",
       "      <td>2.147524</td>\n",
       "      <td>0.471397</td>\n",
       "      <td>0.372082</td>\n",
       "      <td>12624.729478</td>\n",
       "      <td>0.412119</td>\n",
       "      <td>0.763861</td>\n",
       "      <td>0.618031</td>\n",
       "      <td>-5.836713</td>\n",
       "      <td>epoc_p_1006</td>\n",
       "    </tr>\n",
       "    <tr>\n",
       "      <th>3</th>\n",
       "      <td>0.310059</td>\n",
       "      <td>1.877808</td>\n",
       "      <td>0.399801</td>\n",
       "      <td>0.310059</td>\n",
       "      <td>10520.289447</td>\n",
       "      <td>0.351353</td>\n",
       "      <td>0.758136</td>\n",
       "      <td>0.622579</td>\n",
       "      <td>-3.174793</td>\n",
       "      <td>epoc_p_1008</td>\n",
       "    </tr>\n",
       "    <tr>\n",
       "      <th>4</th>\n",
       "      <td>0.324958</td>\n",
       "      <td>1.879608</td>\n",
       "      <td>0.416050</td>\n",
       "      <td>0.324958</td>\n",
       "      <td>11025.837838</td>\n",
       "      <td>0.364945</td>\n",
       "      <td>0.852402</td>\n",
       "      <td>0.694523</td>\n",
       "      <td>-2.959736</td>\n",
       "      <td>epoc_p_1012</td>\n",
       "    </tr>\n",
       "  </tbody>\n",
       "</table>\n",
       "</div>"
      ],
      "text/plain": [
       "   weighted_transitivity  weighted_global_efficiency  \\\n",
       "0               0.210807                    1.488729   \n",
       "1               0.358441                    2.109690   \n",
       "2               0.372082                    2.147524   \n",
       "3               0.310059                    1.877808   \n",
       "4               0.324958                    1.879608   \n",
       "\n",
       "   weighted_clustering_coefficient_zhang  weighted_clustering_coefficient  \\\n",
       "0                               0.298204                         0.210807   \n",
       "1                               0.450025                         0.358441   \n",
       "2                               0.471397                         0.372082   \n",
       "3                               0.399801                         0.310059   \n",
       "4                               0.416050                         0.324958   \n",
       "\n",
       "   weighted_triangle_number  weighted_density  weighted_sw_sigma  \\\n",
       "0               7152.667090          0.253617           0.959284   \n",
       "1              12068.700852          0.397892           0.711052   \n",
       "2              12624.729478          0.412119           0.763861   \n",
       "3              10520.289447          0.351353           0.758136   \n",
       "4              11025.837838          0.364945           0.852402   \n",
       "\n",
       "   weighted_sw_omega  weighted_sw_omega_2   subject_ID  \n",
       "0           0.769167            -1.036699  epoc_p_1004  \n",
       "1           0.586217            -8.065349  epoc_p_1005  \n",
       "2           0.618031            -5.836713  epoc_p_1006  \n",
       "3           0.622579            -3.174793  epoc_p_1008  \n",
       "4           0.694523            -2.959736  epoc_p_1012  "
      ]
     },
     "execution_count": 4,
     "metadata": {},
     "output_type": "execute_result"
    }
   ],
   "source": [
    "fMRI_data.head()"
   ]
  },
  {
   "cell_type": "code",
   "execution_count": 5,
   "id": "7124d09b",
   "metadata": {},
   "outputs": [
    {
     "data": {
      "text/plain": [
       "(80, 10)"
      ]
     },
     "execution_count": 5,
     "metadata": {},
     "output_type": "execute_result"
    }
   ],
   "source": [
    "fMRI_data.shape"
   ]
  },
  {
   "cell_type": "code",
   "execution_count": 6,
   "id": "3e215baf",
   "metadata": {},
   "outputs": [],
   "source": [
    "# get demografic info\n",
    "epoc_dem = pd.read_csv(f'{configs.PROJECT_ROOT}/EPOC/csv_files/EPOC_fMRI_pat_80.csv', sep=\",\")"
   ]
  },
  {
   "cell_type": "code",
   "id": "7ff67087",
   "metadata": {},
   "source": [
    "epoc_dem = epoc_dem.sort_values(by = 'Code')\n",
    "epoc_dem.index = np.arange(epoc_dem.shape[0])\n",
    "epoc_dem"
   ],
   "outputs": [],
   "execution_count": null
  },
  {
   "cell_type": "code",
   "execution_count": 8,
   "id": "ae7157b9",
   "metadata": {},
   "outputs": [],
   "source": [
    "df_dem_fMRI = pd.concat([epoc_dem, fMRI_data.iloc[:,0:-1]], axis=1)"
   ]
  },
  {
   "cell_type": "code",
   "id": "f400591a",
   "metadata": {},
   "source": [
    "df_dem_fMRI.head()"
   ],
   "outputs": [],
   "execution_count": null
  },
  {
   "cell_type": "code",
   "execution_count": 15,
   "id": "93750a5b",
   "metadata": {},
   "outputs": [
    {
     "data": {
      "text/plain": [
       "0     True\n",
       "1     True\n",
       "2     True\n",
       "3     True\n",
       "4     True\n",
       "5     True\n",
       "6     True\n",
       "7     True\n",
       "8     True\n",
       "9     True\n",
       "10    True\n",
       "11    True\n",
       "12    True\n",
       "13    True\n",
       "14    True\n",
       "15    True\n",
       "16    True\n",
       "17    True\n",
       "18    True\n",
       "19    True\n",
       "20    True\n",
       "21    True\n",
       "22    True\n",
       "23    True\n",
       "24    True\n",
       "25    True\n",
       "26    True\n",
       "27    True\n",
       "28    True\n",
       "29    True\n",
       "30    True\n",
       "31    True\n",
       "32    True\n",
       "33    True\n",
       "34    True\n",
       "35    True\n",
       "36    True\n",
       "37    True\n",
       "38    True\n",
       "39    True\n",
       "40    True\n",
       "41    True\n",
       "42    True\n",
       "43    True\n",
       "44    True\n",
       "45    True\n",
       "46    True\n",
       "47    True\n",
       "48    True\n",
       "49    True\n",
       "50    True\n",
       "51    True\n",
       "52    True\n",
       "53    True\n",
       "54    True\n",
       "55    True\n",
       "56    True\n",
       "57    True\n",
       "58    True\n",
       "59    True\n",
       "60    True\n",
       "61    True\n",
       "62    True\n",
       "63    True\n",
       "64    True\n",
       "65    True\n",
       "66    True\n",
       "67    True\n",
       "68    True\n",
       "69    True\n",
       "70    True\n",
       "71    True\n",
       "72    True\n",
       "73    True\n",
       "74    True\n",
       "75    True\n",
       "76    True\n",
       "77    True\n",
       "78    True\n",
       "79    True\n",
       "dtype: bool"
      ]
     },
     "execution_count": 15,
     "metadata": {},
     "output_type": "execute_result"
    }
   ],
   "source": [
    "df_dem_fMRI['Code'] == fMRI_data['subject_ID']"
   ]
  },
  {
   "cell_type": "code",
   "execution_count": 16,
   "id": "b267f6bc",
   "metadata": {},
   "outputs": [],
   "source": "df_dem_fMRI.to_csv(f'{configs.PROJECT_ROOT}/EPOC/csv_files/EPOC_TAB_graph_fMRI_pat_80.csv', index=False)"
  },
  {
   "cell_type": "code",
   "execution_count": null,
   "id": "a54eb181",
   "metadata": {},
   "outputs": [],
   "source": []
  }
 ],
 "metadata": {
  "kernelspec": {
   "display_name": "Python 3 (ipykernel)",
   "language": "python",
   "name": "python3"
  },
  "language_info": {
   "codemirror_mode": {
    "name": "ipython",
    "version": 3
   },
   "file_extension": ".py",
   "mimetype": "text/x-python",
   "name": "python",
   "nbconvert_exporter": "python",
   "pygments_lexer": "ipython3",
   "version": "3.9.12"
  }
 },
 "nbformat": 4,
 "nbformat_minor": 5
}
