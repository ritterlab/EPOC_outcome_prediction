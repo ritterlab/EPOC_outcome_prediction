{
 "cells": [
  {
   "cell_type": "code",
   "execution_count": 84,
   "id": "5b26f756",
   "metadata": {},
   "outputs": [],
   "source": [
    "import numpy as np\n",
    "import matplotlib.pyplot as plt\n",
    "import pandas as pd\n",
    "import pyreadstat\n",
    "import seaborn as sns\n",
    "from scipy import stats\n",
    "\n",
    "from src.configs import configs\n",
    "\n",
    "cmap = plt.cm.rainbow\n",
    "import h5py"
   ]
  },
  {
   "cell_type": "markdown",
   "id": "203aabb9",
   "metadata": {},
   "source": [
    "#### Select only subjects with demografic info"
   ]
  },
  {
   "cell_type": "code",
   "execution_count": 85,
   "id": "f6135311",
   "metadata": {},
   "outputs": [
    {
     "name": "stdout",
     "output_type": "stream",
     "text": [
      "(90,)\n",
      "['epoc_p_1004', 'epoc_p_1005', 'epoc_p_1006', 'epoc_p_1008', 'epoc_p_1012', 'epoc_p_1013', 'epoc_p_1014', 'epoc_p_1015', 'epoc_p_1016', 'epoc_p_1017', 'epoc_p_1018', 'epoc_p_1019', 'epoc_p_1021', 'epoc_p_1022', 'epoc_p_1023', 'epoc_p_1024', 'epoc_p_1025', 'epoc_p_1027', 'epoc_p_1028', 'epoc_p_1029', 'epoc_p_1030', 'epoc_p_1031', 'epoc_p_1033', 'epoc_p_1034', 'epoc_p_1035', 'epoc_p_1036', 'epoc_p_1037', 'epoc_p_1039', 'epoc_p_1040', 'epoc_p_1042', 'epoc_p_1043', 'epoc_p_1044', 'epoc_p_1045', 'epoc_p_1046', 'epoc_p_1047', 'epoc_p_1048', 'epoc_p_1049', 'epoc_p_1050', 'epoc_p_1051', 'epoc_p_1052', 'epoc_p_1053', 'epoc_p_1054', 'epoc_p_1056', 'epoc_p_1057', 'epoc_p_1059', 'epoc_p_1061', 'epoc_p_1062', 'epoc_p_1063', 'epoc_p_1064', 'epoc_p_1065', 'epoc_p_1067', 'epoc_p_1069', 'epoc_p_1071', 'epoc_p_1072', 'epoc_p_1073', 'epoc_p_1074', 'epoc_p_1079', 'epoc_p_1080', 'epoc_p_1081', 'epoc_p_1085', 'epoc_p_1086', 'epoc_p_1087', 'epoc_p_1089', 'epoc_p_1091', 'epoc_p_1093', 'epoc_p_1094', 'epoc_p_1097', 'epoc_p_1099', 'epoc_p_1100', 'epoc_p_1103', 'epoc_p_1108', 'epoc_p_1109', 'epoc_p_1110', 'epoc_p_1114', 'epoc_p_1116', 'epoc_p_1118', 'epoc_p_1119', 'epoc_p_1120', 'epoc_p_1123', 'epoc_p_1124', 'epoc_p_1126', 'epoc_p_1129', 'epoc_p_1130', 'epoc_p_1131', 'epoc_p_1132', 'epoc_p_1136', 'epoc_p_1137', 'epoc_p_1139', 'epoc_p_1140', 'epoc_p_1141']\n"
     ]
    }
   ],
   "source": [
    "# select only subjects with demografic info\n",
    "epoc_dem = pd.read_csv(f'{configs.PROJECT_ROOT}/EPOC/csv_files/EPOC_T1_pat_90.csv', sep=\",\")\n",
    "pat_labels_epoc = epoc_dem['Code'].unique()\n",
    "pat_labels_epoc.sort()\n",
    "print(pat_labels_epoc.shape)\n",
    "pat_labels_epoc = np.ndarray.tolist(pat_labels_epoc)"
   ]
  },
  {
   "cell_type": "code",
   "execution_count": 86,
   "id": "9ab2a9e2",
   "metadata": {},
   "outputs": [],
   "source": [
    "def create_MRI_csv(file_path, pat_labels_epoc):\n",
    "    \n",
    "    df = pd.read_csv(file_path, sep=\"\\t\")\n",
    "    \n",
    "    df.iloc[:,0] = df.iloc[:,0].str[4:8] + '_' + df.iloc[:,0].str[8] + '_' + df.iloc[:,0].str[9:13]\n",
    "    \n",
    "    df_dem_pat = df.loc[df.iloc[:,0].isin(pat_labels_epoc)]\n",
    "    print(df_dem_pat.shape)\n",
    "    \n",
    "    return df_dem_pat"
   ]
  },
  {
   "cell_type": "markdown",
   "id": "d5949170",
   "metadata": {},
   "source": [
    "#### Make dataframes for freesurfer outputs"
   ]
  },
  {
   "cell_type": "code",
   "id": "7f3b2dec",
   "metadata": {},
   "source": [
    "file_path = f\"{configs.OUTPUT_ROOT}/3_output/EPOC/aseg_stats.txt\"\n",
    "df_aseg = create_MRI_csv(file_path, pat_labels_epoc)\n",
    "df_aseg.head()"
   ],
   "outputs": [],
   "execution_count": null
  },
  {
   "cell_type": "code",
   "id": "776f3eb0",
   "metadata": {},
   "source": [
    "file_path = f\"{configs.OUTPUT_ROOT}/3_output/EPOC/lh.thickness.txt\"\n",
    "df_lh_thick = create_MRI_csv(file_path, pat_labels_epoc)\n",
    "df_lh_thick.head()"
   ],
   "outputs": [],
   "execution_count": null
  },
  {
   "cell_type": "code",
   "id": "646fb3f8",
   "metadata": {},
   "source": [
    "file_path = f\"{configs.OUTPUT_ROOT}/3_output/EPOC/rh.thickness.txt\"\n",
    "df_rh_thick = create_MRI_csv(file_path, pat_labels_epoc)\n",
    "df_rh_thick.head()"
   ],
   "outputs": [],
   "execution_count": null
  },
  {
   "cell_type": "code",
   "id": "0294ff23",
   "metadata": {},
   "source": [
    "file_path = f\"{configs.OUTPUT_ROOT}/3_output/EPOC/lh.volume.txt\"\n",
    "df_lh_vol = create_MRI_csv(file_path, pat_labels_epoc)\n",
    "df_lh_vol.head()"
   ],
   "outputs": [],
   "execution_count": null
  },
  {
   "cell_type": "code",
   "id": "18b2e7b6",
   "metadata": {},
   "source": [
    "file_path = f\"{configs.OUTPUT_ROOT}/3_output/EPOC/rh.volume.txt\"\n",
    "df_rh_vol = create_MRI_csv(file_path, pat_labels_epoc)\n",
    "df_rh_vol.head()"
   ],
   "outputs": [],
   "execution_count": null
  },
  {
   "cell_type": "code",
   "execution_count": 92,
   "id": "c2ec0c4d",
   "metadata": {},
   "outputs": [],
   "source": [
    "df_FS_all = pd.concat([df_aseg.iloc[:, 1:], df_lh_thick.iloc[:, 1:], df_rh_thick.iloc[:, 1:], df_lh_vol.iloc[:, 1:], df_rh_vol.iloc[:, 1:]], axis=1)"
   ]
  },
  {
   "cell_type": "code",
   "execution_count": 93,
   "id": "affbb504",
   "metadata": {},
   "outputs": [
    {
     "data": {
      "text/plain": [
       "(90, 496)"
      ]
     },
     "execution_count": 93,
     "metadata": {},
     "output_type": "execute_result"
    }
   ],
   "source": [
    "df_FS_all.shape"
   ]
  },
  {
   "cell_type": "code",
   "execution_count": 94,
   "id": "c5bc7241",
   "metadata": {},
   "outputs": [],
   "source": [
    "df_FS_all.rename(columns={\"Measure:volume\": \"subject\"},inplace = True)"
   ]
  },
  {
   "cell_type": "markdown",
   "id": "8c1d362c",
   "metadata": {},
   "source": [
    "### Add demografic information"
   ]
  },
  {
   "cell_type": "code",
   "id": "618eb954",
   "metadata": {},
   "source": [
    "epoc_dem.head()"
   ],
   "outputs": [],
   "execution_count": null
  },
  {
   "cell_type": "code",
   "id": "b92cff66",
   "metadata": {
    "scrolled": true
   },
   "source": [
    "epoc_dem = epoc_dem.sort_values(by = 'Code')\n",
    "epoc_dem"
   ],
   "outputs": [],
   "execution_count": null
  },
  {
   "cell_type": "code",
   "id": "dc1df670",
   "metadata": {},
   "source": [
    "epoc_dem.index = np.arange(epoc_dem.shape[0])\n",
    "epoc_dem"
   ],
   "outputs": [],
   "execution_count": null
  },
  {
   "cell_type": "code",
   "id": "000ce334",
   "metadata": {},
   "source": [
    "df_FS_all.index = np.arange(df_FS_all.shape[0])\n",
    "df_FS_all"
   ],
   "outputs": [],
   "execution_count": null
  },
  {
   "cell_type": "code",
   "execution_count": 100,
   "id": "03a71b4f",
   "metadata": {},
   "outputs": [],
   "source": [
    "df_dem_MRI = pd.concat([epoc_dem, df_FS_all], axis=1)"
   ]
  },
  {
   "cell_type": "code",
   "id": "5799a146",
   "metadata": {
    "scrolled": true
   },
   "source": [
    "df_dem_MRI "
   ],
   "outputs": [],
   "execution_count": null
  },
  {
   "cell_type": "code",
   "execution_count": 102,
   "id": "7d867af5",
   "metadata": {},
   "outputs": [],
   "source": "df_dem_MRI.to_csv(f'{configs.PROJECT_ROOT}/EPOC/csv_files/EPOC_MRI_pat_90.csv', index=False)"
  },
  {
   "cell_type": "code",
   "execution_count": null,
   "id": "e9a163be",
   "metadata": {},
   "outputs": [],
   "source": []
  }
 ],
 "metadata": {
  "kernelspec": {
   "display_name": "Python 3 (ipykernel)",
   "language": "python",
   "name": "python3"
  },
  "language_info": {
   "codemirror_mode": {
    "name": "ipython",
    "version": 3
   },
   "file_extension": ".py",
   "mimetype": "text/x-python",
   "name": "python",
   "nbconvert_exporter": "python",
   "pygments_lexer": "ipython3",
   "version": "3.9.12"
  }
 },
 "nbformat": 4,
 "nbformat_minor": 5
}
