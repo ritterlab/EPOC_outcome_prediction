{
 "cells": [
  {
   "cell_type": "code",
   "execution_count": 19,
   "id": "e75f0112",
   "metadata": {},
   "outputs": [],
   "source": [
    "import numpy as np\n",
    "import matplotlib.pyplot as plt\n",
    "import pandas as pd\n",
    "import pyreadstat\n",
    "import seaborn as sns\n",
    "from scipy import stats\n",
    "import os\n",
    "import shutil\n",
    "import glob\n",
    "\n",
    "from src.configs import configs\n",
    "\n",
    "cmap = plt.cm.rainbow"
   ]
  },
  {
   "cell_type": "code",
   "execution_count": 20,
   "id": "02ac6d6d",
   "metadata": {},
   "outputs": [],
   "source": "fMRI_data = pd.read_csv(f'{configs.PROJECT_ROOT}/EPOC/csv_files/MRI_csv_files/rsfMRI_80pat.csv')"
  },
  {
   "cell_type": "code",
   "id": "57946f88",
   "metadata": {},
   "source": [
    "fMRI_data.head()"
   ],
   "outputs": [],
   "execution_count": null
  },
  {
   "cell_type": "code",
   "execution_count": 48,
   "id": "7124d09b",
   "metadata": {},
   "outputs": [
    {
     "data": {
      "text/plain": [
       "(80, 30629)"
      ]
     },
     "execution_count": 48,
     "metadata": {},
     "output_type": "execute_result"
    }
   ],
   "source": [
    "fMRI_data.shape"
   ]
  },
  {
   "cell_type": "code",
   "execution_count": 49,
   "id": "3e215baf",
   "metadata": {},
   "outputs": [],
   "source": [
    "# get demografic info\n",
    "epoc_dem = pd.read_csv(f'{configs.PROJECT_ROOT}/EPOC/csv_files/EPOC_fMRI_pat_80.csv', sep=\",\")"
   ]
  },
  {
   "cell_type": "code",
   "id": "7ff67087",
   "metadata": {},
   "source": [
    "epoc_dem = epoc_dem.sort_values(by = 'Code')\n",
    "epoc_dem.index = np.arange(epoc_dem.shape[0])\n",
    "epoc_dem"
   ],
   "outputs": [],
   "execution_count": null
  },
  {
   "cell_type": "code",
   "execution_count": 51,
   "id": "ae7157b9",
   "metadata": {},
   "outputs": [],
   "source": [
    "df_dem_fMRI = pd.concat([epoc_dem, fMRI_data.iloc[:,1:]], axis=1)"
   ]
  },
  {
   "cell_type": "code",
   "id": "f400591a",
   "metadata": {},
   "source": [
    "df_dem_fMRI.head()"
   ],
   "outputs": [],
   "execution_count": null
  },
  {
   "cell_type": "code",
   "execution_count": 18,
   "id": "b267f6bc",
   "metadata": {},
   "outputs": [],
   "source": "df_dem_fMRI.to_csv(f'{configs.PROJECT_ROOT}/EPOC/csv_files/EPOC_TAB_fMRI_pat_80.csv', index=False)"
  },
  {
   "cell_type": "code",
   "execution_count": null,
   "id": "40f22598",
   "metadata": {},
   "outputs": [],
   "source": []
  },
  {
   "cell_type": "code",
   "execution_count": null,
   "id": "a54eb181",
   "metadata": {},
   "outputs": [],
   "source": []
  }
 ],
 "metadata": {
  "kernelspec": {
   "display_name": "Python 3 (ipykernel)",
   "language": "python",
   "name": "python3"
  },
  "language_info": {
   "codemirror_mode": {
    "name": "ipython",
    "version": 3
   },
   "file_extension": ".py",
   "mimetype": "text/x-python",
   "name": "python",
   "nbconvert_exporter": "python",
   "pygments_lexer": "ipython3",
   "version": "3.9.12"
  }
 },
 "nbformat": 4,
 "nbformat_minor": 5
}
