{
 "cells": [
  {
   "cell_type": "code",
   "execution_count": 1,
   "id": "5b26f756",
   "metadata": {},
   "outputs": [],
   "source": [
    "import numpy as np\n",
    "import matplotlib.pyplot as plt\n",
    "import pandas as pd\n",
    "import pyreadstat\n",
    "import seaborn as sns\n",
    "from scipy import stats\n",
    "\n",
    "from src.configs import configs\n",
    "\n",
    "cmap = plt.cm.rainbow\n",
    "import h5py"
   ]
  },
  {
   "cell_type": "markdown",
   "id": "203aabb9",
   "metadata": {},
   "source": [
    "#### Select only subjects with demografic info"
   ]
  },
  {
   "cell_type": "code",
   "id": "f6135311",
   "metadata": {},
   "source": [
    "# select only subjects with demografic info\n",
    "epoc_dem = pd.read_csv(f'{configs.PROJECT_ROOT}/EPOC/EPOC_T1_pat.csv', sep=\",\")\n",
    "pat_labels_epoc = epoc_dem['Code'].unique()\n",
    "pat_labels_epoc.sort()\n",
    "print(pat_labels_epoc.shape)\n",
    "pat_labels_epoc = np.ndarray.tolist(pat_labels_epoc)\n",
    "print(pat_labels_epoc)"
   ],
   "outputs": [],
   "execution_count": null
  },
  {
   "cell_type": "code",
   "execution_count": 3,
   "id": "9ab2a9e2",
   "metadata": {},
   "outputs": [],
   "source": [
    "def create_MRI_csv(file_path, pat_labels_epoc):\n",
    "    \n",
    "    df = pd.read_csv(file_path, sep=\"\\t\")\n",
    "    \n",
    "    df.iloc[:,0] = df.iloc[:,0].str[4:8] + '_' + df.iloc[:,0].str[8] + '_' + df.iloc[:,0].str[9:13]\n",
    "    \n",
    "    df_dem_pat = df.loc[df.iloc[:,0].isin(pat_labels_epoc)]\n",
    "    print(df_dem_pat.shape)\n",
    "    \n",
    "    return df_dem_pat"
   ]
  },
  {
   "cell_type": "markdown",
   "id": "d5949170",
   "metadata": {},
   "source": [
    "#### Make dataframes for freesurfer outputs"
   ]
  },
  {
   "cell_type": "code",
   "id": "7f3b2dec",
   "metadata": {},
   "source": [
    "file_path = \"/home/marijatochadse/3_output/EPOC/aseg_stats.txt\"\n",
    "df_aseg = create_MRI_csv(file_path, pat_labels_epoc)\n",
    "df_aseg.head()"
   ],
   "outputs": [],
   "execution_count": null
  },
  {
   "cell_type": "code",
   "id": "776f3eb0",
   "metadata": {},
   "source": [
    "file_path = \"/home/marijatochadse/3_output/EPOC/lh.thickness.txt\"\n",
    "df_lh_thick = create_MRI_csv(file_path, pat_labels_epoc)\n",
    "df_lh_thick.head()"
   ],
   "outputs": [],
   "execution_count": null
  },
  {
   "cell_type": "code",
   "id": "646fb3f8",
   "metadata": {},
   "source": [
    "file_path = \"/home/marijatochadse/3_output/EPOC/rh.thickness.txt\"\n",
    "df_rh_thick = create_MRI_csv(file_path, pat_labels_epoc)\n",
    "df_rh_thick.head()"
   ],
   "outputs": [],
   "execution_count": null
  },
  {
   "cell_type": "code",
   "id": "0294ff23",
   "metadata": {},
   "source": [
    "file_path = \"/home/marijatochadse/3_output/EPOC/lh.volume.txt\"\n",
    "df_lh_vol = create_MRI_csv(file_path, pat_labels_epoc)\n",
    "df_lh_vol.head()"
   ],
   "outputs": [],
   "execution_count": null
  },
  {
   "cell_type": "code",
   "id": "18b2e7b6",
   "metadata": {},
   "source": [
    "file_path = \"/home/marijatochadse/3_output/EPOC/rh.volume.txt\"\n",
    "df_rh_vol = create_MRI_csv(file_path, pat_labels_epoc)\n",
    "df_rh_vol.head()"
   ],
   "outputs": [],
   "execution_count": null
  },
  {
   "cell_type": "code",
   "execution_count": 9,
   "id": "c2ec0c4d",
   "metadata": {},
   "outputs": [],
   "source": [
    "df_FS_all = pd.concat([df_aseg, df_lh_thick.iloc[:, 1:], df_rh_thick.iloc[:, 1:], df_lh_vol.iloc[:, 1:], df_rh_vol.iloc[:, 1:]], axis=1)"
   ]
  },
  {
   "cell_type": "code",
   "execution_count": 10,
   "id": "affbb504",
   "metadata": {},
   "outputs": [
    {
     "data": {
      "text/plain": [
       "(90, 497)"
      ]
     },
     "execution_count": 10,
     "metadata": {},
     "output_type": "execute_result"
    }
   ],
   "source": [
    "df_FS_all.shape"
   ]
  },
  {
   "cell_type": "code",
   "execution_count": 11,
   "id": "c5bc7241",
   "metadata": {},
   "outputs": [],
   "source": [
    "df_FS_all.rename(columns={\"Measure:volume\": \"subject\"},inplace = True)"
   ]
  },
  {
   "cell_type": "code",
   "id": "60b7d559",
   "metadata": {},
   "source": [
    "df_FS_all"
   ],
   "outputs": [],
   "execution_count": null
  },
  {
   "cell_type": "code",
   "execution_count": 15,
   "id": "d07affca",
   "metadata": {},
   "outputs": [],
   "source": "df_FS_all.to_csv(f'{configs.PROJECT_ROOT}/EPOC/csv_files/MRI_csv_files/FS_all_dem_pat.csv', index=False)"
  },
  {
   "cell_type": "code",
   "execution_count": null,
   "id": "e9a163be",
   "metadata": {},
   "outputs": [],
   "source": []
  }
 ],
 "metadata": {
  "kernelspec": {
   "display_name": "Python 3 (ipykernel)",
   "language": "python",
   "name": "python3"
  },
  "language_info": {
   "codemirror_mode": {
    "name": "ipython",
    "version": 3
   },
   "file_extension": ".py",
   "mimetype": "text/x-python",
   "name": "python",
   "nbconvert_exporter": "python",
   "pygments_lexer": "ipython3",
   "version": "3.9.12"
  }
 },
 "nbformat": 4,
 "nbformat_minor": 5
}
