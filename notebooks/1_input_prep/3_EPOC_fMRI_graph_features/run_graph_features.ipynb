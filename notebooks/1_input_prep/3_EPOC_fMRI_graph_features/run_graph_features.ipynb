{
 "cells": [
  {
   "cell_type": "code",
   "metadata": {},
   "source": [
    "from graph_features import *\n",
    "import numpy as np\n",
    "import pandas as pd\n",
    "from scipy import stats\n",
    "import os\n",
    "import shutil\n",
    "import glob\n",
    "\n",
    "from math import sqrt\n",
    "from joblib import Parallel, delayed\n",
    "\n",
    "from src.configs import configs"
   ],
   "outputs": [],
   "execution_count": null
  },
  {
   "cell_type": "markdown",
   "metadata": {},
   "source": [
    "#### get path list to resting-state matrices"
   ]
  },
  {
   "cell_type": "code",
   "execution_count": 10,
   "metadata": {},
   "outputs": [],
   "source": [
    "rs_dir = f'{configs.PROJECT_ROOT}/EPOC/halfpipe_patients_only'\n",
    "subj_folders = os.listdir(rs_dir)\n",
    "subj_folders.sort()\n",
    "path_list = []\n",
    "\n",
    "for subj in subj_folders:\n",
    "    file_name = f\"{configs.PROJECT_ROOT}/EPOC/halfpipe_patients_only/{subj}/func/task-rest/{subj}_task-rest_feature-corrMatrixAroma_atlas-brainnetomeCombinedDseg_desc-correlation_matrix.tsv\"\n",
    "\n",
    "    path_list.append(file_name)"
   ]
  },
  {
   "cell_type": "code",
   "metadata": {},
   "source": [
    "Parallel(n_jobs=2)(delayed(get_graph_features)(isubj, ipath) for isubj, ipath in zip(subj_folders, path_list))"
   ],
   "outputs": [],
   "execution_count": null
  },
  {
   "cell_type": "code",
   "execution_count": null,
   "metadata": {},
   "outputs": [],
   "source": []
  },
  {
   "cell_type": "code",
   "execution_count": null,
   "metadata": {},
   "outputs": [],
   "source": []
  }
 ],
 "metadata": {
  "kernelspec": {
   "display_name": "base",
   "language": "python",
   "name": "python3"
  },
  "language_info": {
   "codemirror_mode": {
    "name": "ipython",
    "version": 3
   },
   "file_extension": ".py",
   "mimetype": "text/x-python",
   "name": "python",
   "nbconvert_exporter": "python",
   "pygments_lexer": "ipython3",
   "version": "3.9.12"
  }
 },
 "nbformat": 4,
 "nbformat_minor": 2
}
