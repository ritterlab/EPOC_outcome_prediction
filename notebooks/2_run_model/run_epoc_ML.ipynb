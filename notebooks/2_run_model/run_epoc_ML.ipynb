{
 "cells": [
  {
   "cell_type": "code",
   "id": "18999c39",
   "metadata": {},
   "source": [
    "%matplotlib inline\n",
    "%load_ext autoreload\n",
    "%autoreload 2"
   ],
   "outputs": [],
   "execution_count": null
  },
  {
   "cell_type": "code",
   "id": "168241ae",
   "metadata": {},
   "source": [
    "import sys\n",
    "sys.path.insert(0, \"../1_input_prep/\")\n",
    "import src.MLpipeline.runMLpipelines as runMLpipelines"
   ],
   "outputs": [],
   "execution_count": null
  },
  {
   "cell_type": "code",
   "id": "8c3e1000",
   "metadata": {},
   "source": [
    "# This can also be run as\n",
    "# ! python3 ../../../src/MLPipeline/runMLpipelines.py classification_Response\n",
    "\n",
    "runMLpipelines.run_pipeline(\"classification_Response\", True)\n"
   ],
   "outputs": [],
   "execution_count": null
  },
  {
   "cell_type": "code",
   "id": "8a6c58b3",
   "metadata": {},
   "source": "runMLpipelines.run_pipeline(\"classification_MRI_PCA_Response\", True)",
   "outputs": [],
   "execution_count": null
  },
  {
   "metadata": {},
   "cell_type": "code",
   "source": "runMLpipelines.run_pipeline(\"classification_Remission\", True)",
   "id": "e7b3105454ee80ed",
   "outputs": [],
   "execution_count": null
  },
  {
   "metadata": {},
   "cell_type": "code",
   "source": "runMLpipelines.run_pipeline(\"classification_Response\", True)",
   "id": "383f88063cf94804",
   "outputs": [],
   "execution_count": null
  }
 ],
 "metadata": {
  "kernelspec": {
   "display_name": "Python 3 (ipykernel)",
   "language": "python",
   "name": "python3"
  },
  "language_info": {
   "codemirror_mode": {
    "name": "ipython",
    "version": 3
   },
   "file_extension": ".py",
   "mimetype": "text/x-python",
   "name": "python",
   "nbconvert_exporter": "python",
   "pygments_lexer": "ipython3",
   "version": "3.9.12"
  }
 },
 "nbformat": 4,
 "nbformat_minor": 5
}
